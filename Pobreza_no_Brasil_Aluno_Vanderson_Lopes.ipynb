{
  "cells": [
    {
      "cell_type": "markdown",
      "metadata": {
        "id": "view-in-github",
        "colab_type": "text"
      },
      "source": [
        "<a href=\"https://colab.research.google.com/github/VandersonLopes/PUC-RIO2/blob/main/Pobreza_no_Brasil_Aluno_Vanderson_Lopes.ipynb\" target=\"_parent\"><img src=\"https://colab.research.google.com/assets/colab-badge.svg\" alt=\"Open In Colab\"/></a>"
      ]
    },
    {
      "cell_type": "markdown",
      "metadata": {
        "id": "X7jnr0L-pwwt"
      },
      "source": [
        "## **Análise da Pobreza no Brasil**\n",
        "\n",
        "Objetivo: Identificar (predizer) se determinado indivíduo está dentro ou fora da faixa de pobreza com base em características sócio-econômicas dos indivíduos. Portanto, estamos diante de um problema de Machine Learning de classificação.\n"
      ]
    },
    {
      "cell_type": "markdown",
      "metadata": {
        "id": "dFqa0H_Hr2C9"
      },
      "source": [
        "Dataset utilizado: Poverty in Brazil, disponível no kaggle.com (https://www.kaggle.com/datasets/patrickgomes/determinants-of-poverty-in-brazil).\n",
        "\n",
        "A base de dados contém 20.752 linhas (observações), que são os indivíduos.\n",
        "\n",
        "Cada indivíduo tem para si 8 atributos sócio-econômicos, a saber: gênero (\"woman\"), idade (\"age\"), escolaridade (\"education\"), atividade econômica em que trabalha (\"work\"), área metropolitana (\"metropolitan_area\"), cor/raça (\"non_white\"), centro urbano (\"urban\") e autorização para trabalhar (\"work_permit\").\n",
        "\n",
        "Esses atributos são dados categóricos podem receber os seguintes valores:\n",
        "\n",
        "- \"woman\": 0 - homem; 1 - mulher;\n",
        "\n",
        "- \"age\": valores inteiros;\n",
        "\n",
        "- \"education\": 1 - analfabeto ou menos de 1 ano de estudo; 2 - fundamental incompleto; 3 - fundamental completo; 4 - médio incompleto; 5 - médio completo;\n",
        "6 - superior incompleto; 7 - superior completo ou mais;\n",
        "\n",
        "- \"work\": 1 - agricultura, pecuária ou extrativismo; 2 - indústria; 3 - construção civil; 4 - oficina mecânica; 5 - bens e serviços; 6 - hotelaria e alimentação; 7 - Informática, comunicação e finanças; 8 - administração pública; 9 - educação, saúde e serviço social; 10 - outros serviços; 11 - trabalho doméstico; 12 - atividades \"mal definidas\";\n",
        "\n",
        "- \"metropoliran_area\": 0 - não vive em região metropolitana; 1 - vive em região metropilitana;\n",
        "\n",
        "- \"non_white\": 0 - branco; 1 - não branco;\n",
        "\n",
        "- \"urban\": 0 - vive em área rural; 1 - vive em centro urbano;\n",
        "\n",
        "- \"work_permit\": 0 - não possui autorização para trabalhar; 1 - possui autorização para trabalhar; 2 - outros: servidor público, empregador.   \n",
        "\n",
        "\n",
        "Já a variável *target* (y) é a classificação pela linha da pobreza (\"poverty\"). O indivíduo que tem uma renda média mensal acima de R$ 457 (valores de 2020) está fora da faixa de pobreza (e recebe o valor 0). Caso contrário, ele está dentro da faixa de pobreza (e recebe o valor 1).\n",
        "\n",
        "Reiterando, portanto, este trabalho consiste em encontrar um bom preditor que, dados esses oito atributos acima descritos, consiga predizer se determinado indivíduo está dentro ou fora da faixa de pobreza.\n",
        "\n"
      ]
    },
    {
      "cell_type": "markdown",
      "metadata": {
        "id": "6wHaRSy-XR3t"
      },
      "source": [
        "## **1. Saudações Iniciais**\n",
        "\n"
      ]
    },
    {
      "cell_type": "code",
      "execution_count": null,
      "metadata": {
        "colab": {
          "base_uri": "https://localhost:8080/"
        },
        "id": "ez9OACsXr_Yd",
        "outputId": "d59e2a8b-3040-41d7-afa7-90babec2557d"
      },
      "outputs": [
        {
          "name": "stdout",
          "output_type": "stream",
          "text": [
            "Olá, amigos, vamos iniciar a análise?\n"
          ]
        }
      ],
      "source": [
        "# Saudações\n",
        "print (\"Olá, amigos, vamos iniciar a análise?\")"
      ]
    },
    {
      "cell_type": "markdown",
      "metadata": {
        "id": "TQJGXHhwXve5"
      },
      "source": [
        "## **2. Importação de bibliotecas para execução**"
      ]
    },
    {
      "cell_type": "code",
      "execution_count": null,
      "metadata": {
        "id": "64sfbOxZYNql"
      },
      "outputs": [],
      "source": [
        "# Configuração para não exibir os warnings. Para não poluir a seção de resultados das rotinas com comentários que não sejam indicativos de erros na construção do código.\n",
        "\n",
        "import warnings\n",
        "warnings.filterwarnings(\"ignore\")\n",
        "\n",
        "# Importando bibliotecas\n",
        "\n",
        "import pandas as pd\n",
        "import numpy as np\n",
        "import matplotlib.pyplot as plt\n",
        "\n",
        "from sklearn.model_selection import train_test_split   # Para dividir a base de dados em base de treino e base de teste (holdout)\n",
        "from sklearn.model_selection import StratifiedKFold   # Para preparar os folds da validação cruzada estratificada\n",
        "from sklearn.model_selection import cross_val_score   # Para executar a Validação Cruzada\n",
        "from sklearn.model_selection import GridSearchCV   # Para executar a Otimzação de hiperparâmetros dos modelos\n",
        "\n",
        "# Métricas de Avaliação dos Algoritmos de Classificação\n",
        "\n",
        "from sklearn.metrics import accuracy_score   # Acurácia\n",
        "from sklearn.pipeline import Pipeline  # Importante para evitar DataLeakage\n",
        "\n",
        "# Algoritmos de Classificação\n",
        "from sklearn.linear_model import LogisticRegression   # Regressão Logística\n",
        "from sklearn.tree import DecisionTreeClassifier   # Árvore de Decisão para Classificação\n",
        "from sklearn.neighbors import KNeighborsClassifier   # KNN: Modelo dos \"Vizinhos mais próximos\"\n",
        "from sklearn.naive_bayes import GaussianNB   # Naive Bayes\n",
        "from sklearn.svm import SVC   # Support Vector Machine para Classificação\n",
        "\n",
        "# Ensembles (Combinação de modelos)\n",
        "from sklearn.ensemble import BaggingClassifier\n",
        "from sklearn.ensemble import RandomForestClassifier\n",
        "from sklearn.ensemble import ExtraTreesClassifier\n",
        "from sklearn.ensemble import VotingClassifier\n",
        "from sklearn.ensemble import AdaBoostClassifier\n",
        "from sklearn.ensemble import GradientBoostingClassifier"
      ]
    },
    {
      "cell_type": "markdown",
      "metadata": {
        "id": "di0l75tb8gaw"
      },
      "source": [
        "## **3. Carga / Importação da Base de Dados**\n",
        "\n",
        "O banco de dados está armazenado em repositório público no Github."
      ]
    },
    {
      "cell_type": "code",
      "execution_count": null,
      "metadata": {
        "colab": {
          "base_uri": "https://localhost:8080/",
          "height": 206
        },
        "id": "wHsVrEvvcs9L",
        "outputId": "96757b7a-302c-4f32-fd11-dd5132574801"
      },
      "outputs": [
        {
          "data": {
            "application/vnd.google.colaboratory.intrinsic+json": {
              "summary": "{\n  \"name\": \"dataset\",\n  \"rows\": 20752,\n  \"fields\": [\n    {\n      \"column\": \"woman\",\n      \"properties\": {\n        \"dtype\": \"number\",\n        \"std\": 0,\n        \"min\": 0,\n        \"max\": 1,\n        \"num_unique_values\": 2,\n        \"samples\": [\n          1,\n          0\n        ],\n        \"semantic_type\": \"\",\n        \"description\": \"\"\n      }\n    },\n    {\n      \"column\": \"age\",\n      \"properties\": {\n        \"dtype\": \"number\",\n        \"std\": 12,\n        \"min\": 14,\n        \"max\": 91,\n        \"num_unique_values\": 76,\n        \"samples\": [\n          55,\n          25\n        ],\n        \"semantic_type\": \"\",\n        \"description\": \"\"\n      }\n    },\n    {\n      \"column\": \"education\",\n      \"properties\": {\n        \"dtype\": \"number\",\n        \"std\": 1,\n        \"min\": 1,\n        \"max\": 7,\n        \"num_unique_values\": 7,\n        \"samples\": [\n          5,\n          2\n        ],\n        \"semantic_type\": \"\",\n        \"description\": \"\"\n      }\n    },\n    {\n      \"column\": \"work\",\n      \"properties\": {\n        \"dtype\": \"number\",\n        \"std\": 3,\n        \"min\": 1,\n        \"max\": 12,\n        \"num_unique_values\": 12,\n        \"samples\": [\n          6,\n          1\n        ],\n        \"semantic_type\": \"\",\n        \"description\": \"\"\n      }\n    },\n    {\n      \"column\": \"metropolitan_area\",\n      \"properties\": {\n        \"dtype\": \"number\",\n        \"std\": 0,\n        \"min\": 0,\n        \"max\": 1,\n        \"num_unique_values\": 2,\n        \"samples\": [\n          0,\n          1\n        ],\n        \"semantic_type\": \"\",\n        \"description\": \"\"\n      }\n    },\n    {\n      \"column\": \"non_white\",\n      \"properties\": {\n        \"dtype\": \"number\",\n        \"std\": 0.49792717308695694,\n        \"min\": 0.0,\n        \"max\": 1.0,\n        \"num_unique_values\": 2,\n        \"samples\": [\n          0.0,\n          1.0\n        ],\n        \"semantic_type\": \"\",\n        \"description\": \"\"\n      }\n    },\n    {\n      \"column\": \"urban\",\n      \"properties\": {\n        \"dtype\": \"number\",\n        \"std\": 0,\n        \"min\": 0,\n        \"max\": 1,\n        \"num_unique_values\": 2,\n        \"samples\": [\n          0,\n          1\n        ],\n        \"semantic_type\": \"\",\n        \"description\": \"\"\n      }\n    },\n    {\n      \"column\": \"work_permit\",\n      \"properties\": {\n        \"dtype\": \"number\",\n        \"std\": 0,\n        \"min\": 0,\n        \"max\": 2,\n        \"num_unique_values\": 3,\n        \"samples\": [\n          2,\n          0\n        ],\n        \"semantic_type\": \"\",\n        \"description\": \"\"\n      }\n    },\n    {\n      \"column\": \"poverty\",\n      \"properties\": {\n        \"dtype\": \"number\",\n        \"std\": 0,\n        \"min\": 0,\n        \"max\": 1,\n        \"num_unique_values\": 2,\n        \"samples\": [\n          1,\n          0\n        ],\n        \"semantic_type\": \"\",\n        \"description\": \"\"\n      }\n    }\n  ]\n}",
              "type": "dataframe",
              "variable_name": "dataset"
            },
            "text/html": [
              "\n",
              "  <div id=\"df-d7f3222c-9b2b-404e-9855-a994178614e7\" class=\"colab-df-container\">\n",
              "    <div>\n",
              "<style scoped>\n",
              "    .dataframe tbody tr th:only-of-type {\n",
              "        vertical-align: middle;\n",
              "    }\n",
              "\n",
              "    .dataframe tbody tr th {\n",
              "        vertical-align: top;\n",
              "    }\n",
              "\n",
              "    .dataframe thead th {\n",
              "        text-align: right;\n",
              "    }\n",
              "</style>\n",
              "<table border=\"1\" class=\"dataframe\">\n",
              "  <thead>\n",
              "    <tr style=\"text-align: right;\">\n",
              "      <th></th>\n",
              "      <th>woman</th>\n",
              "      <th>age</th>\n",
              "      <th>education</th>\n",
              "      <th>work</th>\n",
              "      <th>metropolitan_area</th>\n",
              "      <th>non_white</th>\n",
              "      <th>urban</th>\n",
              "      <th>work_permit</th>\n",
              "      <th>poverty</th>\n",
              "    </tr>\n",
              "  </thead>\n",
              "  <tbody>\n",
              "    <tr>\n",
              "      <th>0</th>\n",
              "      <td>0</td>\n",
              "      <td>59</td>\n",
              "      <td>5</td>\n",
              "      <td>8</td>\n",
              "      <td>1</td>\n",
              "      <td>1.0</td>\n",
              "      <td>1</td>\n",
              "      <td>2</td>\n",
              "      <td>0</td>\n",
              "    </tr>\n",
              "    <tr>\n",
              "      <th>1</th>\n",
              "      <td>0</td>\n",
              "      <td>21</td>\n",
              "      <td>5</td>\n",
              "      <td>8</td>\n",
              "      <td>1</td>\n",
              "      <td>0.0</td>\n",
              "      <td>1</td>\n",
              "      <td>0</td>\n",
              "      <td>0</td>\n",
              "    </tr>\n",
              "    <tr>\n",
              "      <th>2</th>\n",
              "      <td>0</td>\n",
              "      <td>59</td>\n",
              "      <td>2</td>\n",
              "      <td>9</td>\n",
              "      <td>1</td>\n",
              "      <td>1.0</td>\n",
              "      <td>1</td>\n",
              "      <td>1</td>\n",
              "      <td>0</td>\n",
              "    </tr>\n",
              "    <tr>\n",
              "      <th>3</th>\n",
              "      <td>1</td>\n",
              "      <td>58</td>\n",
              "      <td>5</td>\n",
              "      <td>8</td>\n",
              "      <td>1</td>\n",
              "      <td>1.0</td>\n",
              "      <td>1</td>\n",
              "      <td>2</td>\n",
              "      <td>0</td>\n",
              "    </tr>\n",
              "    <tr>\n",
              "      <th>4</th>\n",
              "      <td>1</td>\n",
              "      <td>56</td>\n",
              "      <td>2</td>\n",
              "      <td>9</td>\n",
              "      <td>1</td>\n",
              "      <td>1.0</td>\n",
              "      <td>1</td>\n",
              "      <td>1</td>\n",
              "      <td>0</td>\n",
              "    </tr>\n",
              "  </tbody>\n",
              "</table>\n",
              "</div>\n",
              "    <div class=\"colab-df-buttons\">\n",
              "\n",
              "  <div class=\"colab-df-container\">\n",
              "    <button class=\"colab-df-convert\" onclick=\"convertToInteractive('df-d7f3222c-9b2b-404e-9855-a994178614e7')\"\n",
              "            title=\"Convert this dataframe to an interactive table.\"\n",
              "            style=\"display:none;\">\n",
              "\n",
              "  <svg xmlns=\"http://www.w3.org/2000/svg\" height=\"24px\" viewBox=\"0 -960 960 960\">\n",
              "    <path d=\"M120-120v-720h720v720H120Zm60-500h600v-160H180v160Zm220 220h160v-160H400v160Zm0 220h160v-160H400v160ZM180-400h160v-160H180v160Zm440 0h160v-160H620v160ZM180-180h160v-160H180v160Zm440 0h160v-160H620v160Z\"/>\n",
              "  </svg>\n",
              "    </button>\n",
              "\n",
              "  <style>\n",
              "    .colab-df-container {\n",
              "      display:flex;\n",
              "      gap: 12px;\n",
              "    }\n",
              "\n",
              "    .colab-df-convert {\n",
              "      background-color: #E8F0FE;\n",
              "      border: none;\n",
              "      border-radius: 50%;\n",
              "      cursor: pointer;\n",
              "      display: none;\n",
              "      fill: #1967D2;\n",
              "      height: 32px;\n",
              "      padding: 0 0 0 0;\n",
              "      width: 32px;\n",
              "    }\n",
              "\n",
              "    .colab-df-convert:hover {\n",
              "      background-color: #E2EBFA;\n",
              "      box-shadow: 0px 1px 2px rgba(60, 64, 67, 0.3), 0px 1px 3px 1px rgba(60, 64, 67, 0.15);\n",
              "      fill: #174EA6;\n",
              "    }\n",
              "\n",
              "    .colab-df-buttons div {\n",
              "      margin-bottom: 4px;\n",
              "    }\n",
              "\n",
              "    [theme=dark] .colab-df-convert {\n",
              "      background-color: #3B4455;\n",
              "      fill: #D2E3FC;\n",
              "    }\n",
              "\n",
              "    [theme=dark] .colab-df-convert:hover {\n",
              "      background-color: #434B5C;\n",
              "      box-shadow: 0px 1px 3px 1px rgba(0, 0, 0, 0.15);\n",
              "      filter: drop-shadow(0px 1px 2px rgba(0, 0, 0, 0.3));\n",
              "      fill: #FFFFFF;\n",
              "    }\n",
              "  </style>\n",
              "\n",
              "    <script>\n",
              "      const buttonEl =\n",
              "        document.querySelector('#df-d7f3222c-9b2b-404e-9855-a994178614e7 button.colab-df-convert');\n",
              "      buttonEl.style.display =\n",
              "        google.colab.kernel.accessAllowed ? 'block' : 'none';\n",
              "\n",
              "      async function convertToInteractive(key) {\n",
              "        const element = document.querySelector('#df-d7f3222c-9b2b-404e-9855-a994178614e7');\n",
              "        const dataTable =\n",
              "          await google.colab.kernel.invokeFunction('convertToInteractive',\n",
              "                                                    [key], {});\n",
              "        if (!dataTable) return;\n",
              "\n",
              "        const docLinkHtml = 'Like what you see? Visit the ' +\n",
              "          '<a target=\"_blank\" href=https://colab.research.google.com/notebooks/data_table.ipynb>data table notebook</a>'\n",
              "          + ' to learn more about interactive tables.';\n",
              "        element.innerHTML = '';\n",
              "        dataTable['output_type'] = 'display_data';\n",
              "        await google.colab.output.renderOutput(dataTable, element);\n",
              "        const docLink = document.createElement('div');\n",
              "        docLink.innerHTML = docLinkHtml;\n",
              "        element.appendChild(docLink);\n",
              "      }\n",
              "    </script>\n",
              "  </div>\n",
              "\n",
              "\n",
              "<div id=\"df-3baf603b-97b7-45cb-ba86-14961711fe7d\">\n",
              "  <button class=\"colab-df-quickchart\" onclick=\"quickchart('df-3baf603b-97b7-45cb-ba86-14961711fe7d')\"\n",
              "            title=\"Suggest charts\"\n",
              "            style=\"display:none;\">\n",
              "\n",
              "<svg xmlns=\"http://www.w3.org/2000/svg\" height=\"24px\"viewBox=\"0 0 24 24\"\n",
              "     width=\"24px\">\n",
              "    <g>\n",
              "        <path d=\"M19 3H5c-1.1 0-2 .9-2 2v14c0 1.1.9 2 2 2h14c1.1 0 2-.9 2-2V5c0-1.1-.9-2-2-2zM9 17H7v-7h2v7zm4 0h-2V7h2v10zm4 0h-2v-4h2v4z\"/>\n",
              "    </g>\n",
              "</svg>\n",
              "  </button>\n",
              "\n",
              "<style>\n",
              "  .colab-df-quickchart {\n",
              "      --bg-color: #E8F0FE;\n",
              "      --fill-color: #1967D2;\n",
              "      --hover-bg-color: #E2EBFA;\n",
              "      --hover-fill-color: #174EA6;\n",
              "      --disabled-fill-color: #AAA;\n",
              "      --disabled-bg-color: #DDD;\n",
              "  }\n",
              "\n",
              "  [theme=dark] .colab-df-quickchart {\n",
              "      --bg-color: #3B4455;\n",
              "      --fill-color: #D2E3FC;\n",
              "      --hover-bg-color: #434B5C;\n",
              "      --hover-fill-color: #FFFFFF;\n",
              "      --disabled-bg-color: #3B4455;\n",
              "      --disabled-fill-color: #666;\n",
              "  }\n",
              "\n",
              "  .colab-df-quickchart {\n",
              "    background-color: var(--bg-color);\n",
              "    border: none;\n",
              "    border-radius: 50%;\n",
              "    cursor: pointer;\n",
              "    display: none;\n",
              "    fill: var(--fill-color);\n",
              "    height: 32px;\n",
              "    padding: 0;\n",
              "    width: 32px;\n",
              "  }\n",
              "\n",
              "  .colab-df-quickchart:hover {\n",
              "    background-color: var(--hover-bg-color);\n",
              "    box-shadow: 0 1px 2px rgba(60, 64, 67, 0.3), 0 1px 3px 1px rgba(60, 64, 67, 0.15);\n",
              "    fill: var(--button-hover-fill-color);\n",
              "  }\n",
              "\n",
              "  .colab-df-quickchart-complete:disabled,\n",
              "  .colab-df-quickchart-complete:disabled:hover {\n",
              "    background-color: var(--disabled-bg-color);\n",
              "    fill: var(--disabled-fill-color);\n",
              "    box-shadow: none;\n",
              "  }\n",
              "\n",
              "  .colab-df-spinner {\n",
              "    border: 2px solid var(--fill-color);\n",
              "    border-color: transparent;\n",
              "    border-bottom-color: var(--fill-color);\n",
              "    animation:\n",
              "      spin 1s steps(1) infinite;\n",
              "  }\n",
              "\n",
              "  @keyframes spin {\n",
              "    0% {\n",
              "      border-color: transparent;\n",
              "      border-bottom-color: var(--fill-color);\n",
              "      border-left-color: var(--fill-color);\n",
              "    }\n",
              "    20% {\n",
              "      border-color: transparent;\n",
              "      border-left-color: var(--fill-color);\n",
              "      border-top-color: var(--fill-color);\n",
              "    }\n",
              "    30% {\n",
              "      border-color: transparent;\n",
              "      border-left-color: var(--fill-color);\n",
              "      border-top-color: var(--fill-color);\n",
              "      border-right-color: var(--fill-color);\n",
              "    }\n",
              "    40% {\n",
              "      border-color: transparent;\n",
              "      border-right-color: var(--fill-color);\n",
              "      border-top-color: var(--fill-color);\n",
              "    }\n",
              "    60% {\n",
              "      border-color: transparent;\n",
              "      border-right-color: var(--fill-color);\n",
              "    }\n",
              "    80% {\n",
              "      border-color: transparent;\n",
              "      border-right-color: var(--fill-color);\n",
              "      border-bottom-color: var(--fill-color);\n",
              "    }\n",
              "    90% {\n",
              "      border-color: transparent;\n",
              "      border-bottom-color: var(--fill-color);\n",
              "    }\n",
              "  }\n",
              "</style>\n",
              "\n",
              "  <script>\n",
              "    async function quickchart(key) {\n",
              "      const quickchartButtonEl =\n",
              "        document.querySelector('#' + key + ' button');\n",
              "      quickchartButtonEl.disabled = true;  // To prevent multiple clicks.\n",
              "      quickchartButtonEl.classList.add('colab-df-spinner');\n",
              "      try {\n",
              "        const charts = await google.colab.kernel.invokeFunction(\n",
              "            'suggestCharts', [key], {});\n",
              "      } catch (error) {\n",
              "        console.error('Error during call to suggestCharts:', error);\n",
              "      }\n",
              "      quickchartButtonEl.classList.remove('colab-df-spinner');\n",
              "      quickchartButtonEl.classList.add('colab-df-quickchart-complete');\n",
              "    }\n",
              "    (() => {\n",
              "      let quickchartButtonEl =\n",
              "        document.querySelector('#df-3baf603b-97b7-45cb-ba86-14961711fe7d button');\n",
              "      quickchartButtonEl.style.display =\n",
              "        google.colab.kernel.accessAllowed ? 'block' : 'none';\n",
              "    })();\n",
              "  </script>\n",
              "</div>\n",
              "\n",
              "    </div>\n",
              "  </div>\n"
            ],
            "text/plain": [
              "   woman  age  education  work  metropolitan_area  non_white  urban  \\\n",
              "0      0   59          5     8                  1        1.0      1   \n",
              "1      0   21          5     8                  1        0.0      1   \n",
              "2      0   59          2     9                  1        1.0      1   \n",
              "3      1   58          5     8                  1        1.0      1   \n",
              "4      1   56          2     9                  1        1.0      1   \n",
              "\n",
              "   work_permit  poverty  \n",
              "0            2        0  \n",
              "1            0        0  \n",
              "2            1        0  \n",
              "3            2        0  \n",
              "4            1        0  "
            ]
          },
          "execution_count": 3,
          "metadata": {},
          "output_type": "execute_result"
        }
      ],
      "source": [
        "# URL de importação da base de dados a partir do repositório do Github\n",
        "\n",
        "url = \"https://raw.githubusercontent.com/VandersonLopes/PUC-RIO2/main/poverty_brazil.csv\"\n",
        "\n",
        "# Leitura do arquivo com a base de dados\n",
        "dataset = pd.read_csv(url, delimiter=\";\")\n",
        "\n",
        "# Exibe as primeiras linhas da base de dados\n",
        "dataset.head()\n"
      ]
    },
    {
      "cell_type": "markdown",
      "metadata": {
        "id": "g6o_kURNC5pA"
      },
      "source": [
        "Até aqui, foi feita apenas a importação, na íntegra, do banco de dados a partir do *Kaggle*. Ou seja, nada garante que esteja pronto para as operações matemáticas necessárias para resolver um problema de Machine Learning. Por isso, é necessária a etapa do Pré-processamento de dados."
      ]
    },
    {
      "cell_type": "markdown",
      "metadata": {
        "id": "d3Ec1fYHHGME"
      },
      "source": [
        "## **4. Pré-processamento e Preparação do Banco de Dados**\n",
        "\n",
        "Esta é uma etapa fundamental. Se ela não for realizada ou se for feita inadequadamente, pode inviabilizar a resolução do problema.\n",
        "\n",
        "No nosso cotidiano, os dados são coletados e registrados de várias formas, fontes e pessoas diferentes. Tudo isso é um prato cheio para inconsistências e erros, que acabam por comprometer a qualidade do banco de dados. Portanto, é importante lançar mão de processos que garantam a qualidade dos dados.\n",
        "\n",
        "Importante ressatar que, até este momento do MVP, a preocupação não é, ainda, buscar técnicas para aprimorar os resultados. Isso será visto mais adiante. O que se quer, por enquanto, é, tão simplesmente, garantir que as operações matemáticas ocorram e cheguem a algum resultado.\n",
        "\n",
        "Nesse sentido, precisamos investigar, por exemplo, se há campos não preenchidos e, de for o caso, removê-los. Ou seja, vamos fazer a **limpeza de dados**, que é uma das técnicas de pré-processamento mais recomendadas. Para isso, vamos utilzar a função isna() conjugada com a função sum()."
      ]
    },
    {
      "cell_type": "code",
      "execution_count": null,
      "metadata": {
        "colab": {
          "base_uri": "https://localhost:8080/"
        },
        "id": "N53ki6DJMO1g",
        "outputId": "f04b9652-5754-4e9e-edfb-155a4a235c7c"
      },
      "outputs": [
        {
          "data": {
            "text/plain": [
              "woman                0\n",
              "age                  0\n",
              "education            0\n",
              "work                 0\n",
              "metropolitan_area    0\n",
              "non_white            1\n",
              "urban                0\n",
              "work_permit          0\n",
              "poverty              0\n",
              "dtype: int64"
            ]
          },
          "execution_count": 4,
          "metadata": {},
          "output_type": "execute_result"
        }
      ],
      "source": [
        "# Investigando a existência de dados vazios (campos não preenchidos)\n",
        "\n",
        "dataset.isna().sum()"
      ]
    },
    {
      "cell_type": "markdown",
      "metadata": {
        "id": "w2ZJE7F3V3pm"
      },
      "source": [
        "Pelo resultado, vê-se que existe uma linha em que o atributo (coluna) \"non_white\" não está preenchida. Isso inviabiliza o problema. Como se trata de 1 linha de um total de 20.752, decide-se por eliminá-la com a crença de que terá pouco efeito na solução final. Para isso, utiliza-se a função dropna()."
      ]
    },
    {
      "cell_type": "code",
      "execution_count": null,
      "metadata": {
        "colab": {
          "base_uri": "https://localhost:8080/"
        },
        "id": "H-GUAIlqWyf9",
        "outputId": "6278bdd5-d209-4799-d79a-ddc922abac9c"
      },
      "outputs": [
        {
          "data": {
            "text/plain": [
              "woman                0\n",
              "age                  0\n",
              "education            0\n",
              "work                 0\n",
              "metropolitan_area    0\n",
              "non_white            0\n",
              "urban                0\n",
              "work_permit          0\n",
              "poverty              0\n",
              "dtype: int64"
            ]
          },
          "execution_count": 5,
          "metadata": {},
          "output_type": "execute_result"
        }
      ],
      "source": [
        "# Excluindo a linha em que o campo não preenchido se encontra e atualiza o banco de dados\n",
        "dataset = dataset.dropna()\n",
        "\n",
        "# Verifica se a base de dados está \"livre\" da incosistência.\n",
        "dataset.isna().sum()"
      ]
    },
    {
      "cell_type": "markdown",
      "metadata": {
        "id": "_-VAe_JVdky5"
      },
      "source": [
        "Pronto! A base de dados está livre de inconsistências que impedem os cálculos.\n",
        "\n",
        "Importante ressaltar que a base de dados original retirada do Kaggle, muito provavelmente, já havia passado por alguma etapa de pré-processamento. Isso porque todos os atributos já estavam com preenchimento numérico (valor). Por exemplo, na coluna \"woman\" já constava \"0\", se mulher; e \"1\", se homem.\n",
        "\n",
        "Contudo, o mais comum é que estejam preenchidos com uma string categórica \"mulher\" ou \"homem\". Nesse caso em especial, duas aplicações que poderiam ser utilizadas para transformar uma informação categórica em uma informação numérica são label encoding e one-hot-enconding. Porém, o banco de dados importado já dispensou essas etapas de preparação dos dados.\n",
        "\n",
        "De acordo com Kalinowski et al (2023), ao se construir um modelo de aprendizado supervisionado, estamos interessados na generalização. Isso significa que os modelos sejam bons não apenas para o conjunto de treinamento (o dataset usado para construir o modelo), mas para a população em geral. Aqui, a premissa é a de que o dataset é uma amostra finita de uma população.\n",
        "\n",
        "Imadiatamente antes de separar a baseem treino e teste, retiramos um subconjunto do banco de dados (0,1% ou cerca de 20 observações) para no final desse trabalho, na etapa de validação. Esse subconjunto terá um papel muito importante, pois será utilizado para confrontar a predição do modelo com os dado observado. Chamaremos de conjunto de validação. No código, essa separação foi feita utilizando a função train_test_split(). Reiterando, esse conjunto de validação não compõe nem o conjunto de treino nem o conjunto de teste.\n",
        "\n",
        "Em seguida, procede-se à separação, de forma aleatória, da base de dados remanescente em dois conjuntos mutuamente excludentes, não necessariamente de mesmo tamanho: base de treino (para estimação dos parâmetros) e base de teste (para validação). Essa operação é a técnica de amostragem chamada de **Holdout** ou de Validação Simples. O holdout \"é importante porque, após construído, um modelo precisa ser validado com dados diferentes dos utilizados na sua construção\" (KALINOWSKI, 2023, p. 250).\n",
        "\n",
        "Nessa tarefa também utilizamos a função train_test_split(). Após a partição treino-teste, a estimação do modelo é realizada e, posteriormente, os dados de teste são aplicados e o erro de predição calculado.\n",
        "\n"
      ]
    },
    {
      "cell_type": "code",
      "execution_count": null,
      "metadata": {
        "id": "5poqOzhEyah1"
      },
      "outputs": [],
      "source": [
        "# Separação em Base de treino e Base de teste (Holdout ou Validação Simples)\n",
        "\n",
        "X = dataset.drop(columns=[\"poverty\"])\n",
        "y = dataset[\"poverty\"]\n",
        "\n",
        "# Separa e retira uma parte de TODO o dataset (0,1%) para a validação final (X_val e y_val)\n",
        "X, X_val, y, y_val = train_test_split(X, y, test_size=0.001, random_state=7)\n",
        "\n",
        "# A base de teste é 20% de base de dados que permanece após a base de validação final ser retirada\n",
        "X_train, X_test, y_train, y_test = train_test_split(X, y, test_size=0.20, random_state=7) # Holdout"
      ]
    },
    {
      "cell_type": "markdown",
      "metadata": {
        "id": "OKAIjHvn1hzF"
      },
      "source": [
        "Contudo, o método de Holdout pode apresentar problemas, pois é bastante suscetível à qualidade e, sobretudo, ao tamanho do dataset: a) observações muito importantes do dataset podem acabar sendo separadas para teste, prejudicando o treinamento do modelo e consequentemente piorando o resultado dos testes; b) Caso o dataset seja pequeno, dividir os dados entre treino e teste se torna inviável. Normalmente usamos datasets com centenas ou milhares de registros para treinar um modelo.\n",
        "\n",
        "A base de dados importada para nosso problema possui, após a exclusão de uma linha com elemento não numérico e de 21 linhas (conjunto de validação), 20.730 informações, o que sugeriria um bom tamanho para aplicação do holdout. Subjetividades à parte, recomenda-se contorná-las e utilizar outro método: Método de Validação Cruzada (KFold).\n",
        "\n",
        "Segundo Kalinowski et al (2023), a validação cruzada consiste em dividir aleatoriamente o conjunto de dados em k subconjuntos disjuntos com aproximadamente o mesmo número de elementos (n/k). A cada rodada, cada um dos k subconjuntos é usado com conjunto de teste e os restantes são reunidos em um único conjunto de treino. O processo é repetido k vezes, sendo então gerados e avaliados k modelos, e essas avaliações são geralmente consolidadas através da média.\n",
        "\n",
        "Ainda segundo Kalinowski et al (2023), a validação cruzada garante uma melhor estimativa da acurácia de teste do modelo, pois em vez de ter a acurácia de este medida com apenas uma parte do dataset (como no holdout, que utiliza apenas o conjunto de teste), o modelo é testado, de alguma forma, com todos os dados do dataset, o que resulta em melhor aproveitamento do dataset.\n",
        "\n",
        "A função cross_val_score() retorna uma lista com o resultado de cada um dos testes, utilizando a métrica padrão do modelo, que geralmente é a acurácia, para modelos de classificação.\n",
        "\n",
        "O viés do método Kfold diminui quanto maior o valor de k. Sendo k = 10 o valor mais frequentemente usado, adotaremos, então, esse valor de k.\n",
        "\n",
        "Aprofundando um pouco mais o trabalho, tem-se um banco de dados desbalanceado, ou seja, não se tem a mesma quantidade de observações entre as duas classes *target* (y): a quantidade de observações da classe que está dentro da linha da pobreza (\"1') é cerca de 22,5% do total de observações (4.668 de 20.730). Neste caso, recomenda-se adotar uma variante da Validação Cruzada, que é a **Validação Cruzada Estratificada** (StratifiedKFold). Esse método garante que cada subconjunto K mantenha a mesma proporção interclasses observada no dataset total."
      ]
    },
    {
      "cell_type": "code",
      "execution_count": null,
      "metadata": {
        "id": "r052HVVPzX-3"
      },
      "outputs": [],
      "source": [
        "# Parâmetros e partições da Validação Cruzada Estratificada (\"Stratified Cross Validation\") StratifiedKFold\n",
        "\n",
        "num_particoes = 10 # Número de folds da validação cruzada estratificada\n",
        "skf = StratifiedKFold(n_splits=num_particoes, shuffle=True, random_state=7) # Validação Cruzada Estratificada"
      ]
    },
    {
      "cell_type": "markdown",
      "metadata": {
        "id": "bPL1m0QS1QfA"
      },
      "source": [
        "## **5. Modelagem**\n",
        "\n",
        "Finalizada a etapa de pré-processamento e preparação do dataset, precisamos identificar o modelo que apresenta o melhor estimador (classificador) para o dataset em análise.\n",
        "\n",
        "Conforme foi dito anteriormente, um bom algoritmo é aquele que captura bem as regularidades dos dados de treinamento (aprendendo bem com eles), mas que também generaliza bem para dados desconhecidos. De acordo com Kalinowski, isso é conhecido como o dilema bias x variância. É preciso evitar ou reduzir tanto o underfitting quanto o overfitting.\n",
        "\n",
        "Quando o algoritmo não tem parametrizações adequadas e se ajustou pouco ao conjunto de treino a ponto de não realizar boas predições no conjunto de teste, ocorreu o underfitting. Por outro lado, ao se treinar um classificador, a hipótese identificada naquele aprendizado não pode ser muito específica a ponto de prejudicar uma boa generalização. O modelo não pode memorizar padrões padrões de treinamento. Quando isso ocorre, tem-se uma situação de overfitting. Ambos são indesejados. E uma das formas de lidar com esse dilema é, de novo, utilizar a validação cruzada.\n",
        "\n",
        "Na busca pelo melhor modelo, a recomendação é experimentar, experimentar, experimentar...Não existe um melhor do que outro em todas as situações que se deseja analisar. Para isso, precisamoa utilizar métricas de avaliação adequadas. Neste trabalho, utilizaremos a métrica da **acurácia** (ou taxa de acerto). O modelo que fornecer a maior acurácia, será considerado o melhor preditor.\n",
        "\n",
        "De partida, cinco algoritmos de classificação serão analisados: a) Regressão Logística; b) Árvore de Decisão de Classificação; c) KNN (\"K-Nearest Neighbors\" ou K-Vizinhos Mais Próximos); d) Naive Bayes; e) SVM (\"Support Vector Machine\" ou Máquina de Vetor de Suporte).\n",
        "\n",
        "Logo em seguida, num segundo pacote, também foram treinados 6 meta-algoritmos, chamados ensembles. Os ensembles combinam várias técnicas de aprendizado de máquina em um modelo preditivo, com o objetivo de diminuir a variância, o viés ou melhorar as predições. Os ensembles vistos nesse trabalho foram os seguintes: f) Bagging; g) Random Forest; h) Extra Trees; i) AdaBoost; j) Gradient Boosting; k) Voting.\n",
        "\n",
        "Ao final desse trecho, tem-se uma lista com os 11 resultados informando a média e o desvio padrão da acurácia (entre parêntesis), além do gráfico boxplot comparativo.\n",
        "\n",
        "Com exceção da Regressão Logística, que teve o parâmetro padrão de número máximo de iterações (\"max_iter\") modificado para 2.000 iterações, todos os demais modelos não tiveram seus hiperparâmetros \"default\" alterados.\n",
        "\n",
        "Neste estudo, o modelo ensemble \"Voting\" combina os algoritmos de Regressão Logística, Árvore de Decisão e SVM. Já o \"Bagging\" está combinando vários modelos de Árvore de Decisão (algoritmo base) a partir de diferentes subamostras dos dados de treinamento."
      ]
    },
    {
      "cell_type": "code",
      "execution_count": null,
      "metadata": {
        "colab": {
          "base_uri": "https://localhost:8080/",
          "height": 1000
        },
        "id": "mSjBWeTx1uGN",
        "outputId": "d6fa12e8-d504-46a6-ee52-1d5daee6a0fa"
      },
      "outputs": [
        {
          "name": "stdout",
          "output_type": "stream",
          "text": [
            "LR\n",
            "LogisticRegression(max_iter=2000)\n",
            "LR: 0.794560 (0.007659)\n",
            "CART\n",
            "DecisionTreeClassifier()\n",
            "CART: 0.739868 (0.009647)\n",
            "KNN\n",
            "KNeighborsClassifier()\n",
            "KNN: 0.780451 (0.006412)\n",
            "NB\n",
            "GaussianNB()\n",
            "NB: 0.768090 (0.011279)\n",
            "SVM\n",
            "SVC()\n",
            "SVM: 0.776713 (0.000227)\n",
            "Bagging\n",
            "BaggingClassifier(base_estimator=DecisionTreeClassifier(), n_estimators=100)\n",
            "Bagging: 0.760370 (0.010958)\n",
            "RF\n",
            "RandomForestClassifier(max_features=3)\n",
            "RF: 0.763325 (0.008673)\n",
            "ET\n",
            "ExtraTreesClassifier(max_features=3)\n",
            "ET: 0.752411 (0.008231)\n",
            "Ada\n",
            "AdaBoostClassifier(n_estimators=100)\n",
            "Ada: 0.807705 (0.007395)\n",
            "GB\n",
            "GradientBoostingClassifier()\n",
            "GB: 0.808187 (0.009248)\n",
            "Voting\n",
            "VotingClassifier(estimators=[('logistic', LogisticRegression(max_iter=2000)),\n",
            "                             ('cart', DecisionTreeClassifier()),\n",
            "                             ('svm', SVC())])\n",
            "Voting: 0.791666 (0.005018)\n"
          ]
        },
        {
          "data": {
            "image/png": "[encoded data removed]",
            "text/plain": [
              "<Figure size 640x480 with 1 Axes>"
            ]
          },
          "metadata": {},
          "output_type": "display_data"
        }
      ],
      "source": [
        "# Definindo uma seed (semente) global para esta célula de código\n",
        "np.random.seed(7)\n",
        "\n",
        "# Listas para armazenar os modelos, os resultados e os nomes dos modelos\n",
        "models = []\n",
        "results = []\n",
        "names = []\n",
        "\n",
        "# Criando os modelos e adicionando-os na lista de modelos\n",
        "models.append(('LR', LogisticRegression(max_iter=2000)))\n",
        "models.append(('CART', DecisionTreeClassifier()))\n",
        "models.append(('KNN', KNeighborsClassifier()))\n",
        "models.append(('NB', GaussianNB()))\n",
        "models.append(('SVM', SVC()))\n",
        "\n",
        "# Definindo os parâmetros do classificador-base para o BaggingClassifier\n",
        "base = DecisionTreeClassifier()\n",
        "num_trees = 100\n",
        "max_features = 3\n",
        "\n",
        "# Criando os modelos para o VotingClassifier\n",
        "bases = []\n",
        "model1 = LogisticRegression(max_iter=2000)\n",
        "bases.append(('logistic', model1))\n",
        "model2 = DecisionTreeClassifier()\n",
        "bases.append(('cart', model2))\n",
        "model3 = SVC()\n",
        "bases.append(('svm', model3))\n",
        "\n",
        "# Criando os ensembles e adicionando-os na lista de modelos\n",
        "models.append(('Bagging', BaggingClassifier(base_estimator=base, n_estimators=num_trees)))\n",
        "models.append(('RF', RandomForestClassifier(n_estimators=num_trees, max_features=max_features)))\n",
        "models.append(('ET', ExtraTreesClassifier(n_estimators=num_trees, max_features=max_features)))\n",
        "models.append(('Ada', AdaBoostClassifier(n_estimators=num_trees)))\n",
        "models.append(('GB', GradientBoostingClassifier(n_estimators=num_trees)))\n",
        "models.append(('Voting', VotingClassifier(bases)))\n",
        "\n",
        "\n",
        "# Avaliação dos modelos\n",
        "for name, model in models:\n",
        "    print(name)\n",
        "    print(model)\n",
        "    cv_results = cross_val_score(model, X_train, y_train, cv=skf, scoring='accuracy')\n",
        "    results.append(cv_results)\n",
        "    names.append(name)\n",
        "    msg = \"%s: %f (%f)\" % (name, cv_results.mean(), cv_results.std())\n",
        "    print(msg)\n",
        "\n",
        "# Boxplot de comparação dos modelos\n",
        "fig = plt.figure()\n",
        "fig.suptitle('Comparação dos Modelos')\n",
        "ax = fig.add_subplot(111)\n",
        "plt.boxplot(results)\n",
        "ax.set_xticklabels(names)\n",
        "plt.show()"
      ]
    },
    {
      "cell_type": "markdown",
      "metadata": {
        "id": "z1SFoy5iRdhV"
      },
      "source": [
        "Pelos resultados obtidos nessas primeiras rodadas, a acurácia média ficou ente 74% e 80,8%. Os ensembles Gradient Boosting e Ada Boosting, nessa ordem, apresentaram as melhores acurácias, ambos na faixa de 80,8%. Na outra ponta, o modelo de Árvore de Decisão foi o pior preditor. Como consequência, os ensembles Bagging, Extra Trees e Random Forest, que guardam relação com o modelo de Árvore de Decisão, também não foram bem. Por sua vez, o Voting apresentou uma acurácia melhor do que esses três últimos, possivelmente porque seu resultado combina o desempenho da Árvore de Decisão com outros dois modelos que foram bem (Regressão Logística e SVC).\n",
        "\n",
        "Na sequência de investigação do melhor modelo a ser adotado, é salutar que sejam utilizados métodos avançados de análise além dos algoritmos ensembles. Esse processo de aprimoramento ocorre em três etapas: atuar no dataset (transformação dos dados), atuar no dataset (dimensionamento dos dados) e atuar na configuração dos modelos (otimização de hiperparâmetros).\n",
        "\n",
        "É o que começaremos a ver em seguida.\n"
      ]
    },
    {
      "cell_type": "markdown",
      "metadata": {
        "id": "MB7-IxJMbIpY"
      },
      "source": [
        "## **6. Aprimoramento da Modelagem (Padronização e Normalização)**\n",
        "\n",
        "A primeira etapa consiste na transformação do banco de dados e observar se os novos resultados são melhores ou piores do que o resultado anterior.\n",
        "\n",
        "Duas técnicas de transformação do dataset são a **padronização** e a **normalização**.\n",
        "\n",
        "A padronização redimensiona a distribuição dos atributos fazendo com que os valores observados passem a ter as propriedades de uma distribuição normal padrão (média igual a zero e desvio padrão igual a 1). Por sua vez, a normalização redimensiona os dados dos atributos do intervalo original para o intervalo de 0 a 1, alterando-os para uma escala comum sem distorcer as diferenças nos intervalos de valores.\n",
        "\n",
        "No código de programação deste trabalho, a padronização é feita por StandardScaler() e a normalização é feita por MinMaxScaler().\n",
        "\n",
        "Conforme recomenda Kalinowski et al (2023), vamos explorar os modelos com os dados sem transformação, com a padronização e com a normalização, e ver se os resultados são significativamente diferentes. Os resultados obtidos são apresentados em lista e a comparação entre os casos é visualizada em gráfico boxplot. O gráfico possui 33 resultados exibidos em 3 blocos de 11 modelos: sem transformação de dados (dataset original), com padronização (dataset padronizado); e com normalização (dataset normalizado).\n"
      ]
    },
    {
      "cell_type": "code",
      "execution_count": null,
      "metadata": {
        "colab": {
          "base_uri": "https://localhost:8080/",
          "height": 950
        },
        "id": "yhvdjQh-j6CG",
        "outputId": "271771f4-664e-449d-d409-e052c0041318"
      },
      "outputs": [
        {
          "name": "stdout",
          "output_type": "stream",
          "text": [
            "LR-orig: 0.795 (0.008)\n",
            "CART-orig: 0.740 (0.010)\n",
            "KNN-orig: 0.780 (0.006)\n",
            "NB-orig: 0.768 (0.011)\n",
            "SVM-orig: 0.777 (0.000)\n",
            "Bag-orig: 0.760 (0.011)\n",
            "RF-orig: 0.763 (0.009)\n",
            "ET-orig: 0.752 (0.008)\n",
            "Ada-orig: 0.808 (0.007)\n",
            "GB-orig: 0.808 (0.009)\n",
            "Vot-orig: 0.792 (0.005)\n",
            "LR-padr: 0.795 (0.008)\n",
            "CART-padr: 0.740 (0.010)\n",
            "KNN-padr: 0.783 (0.007)\n",
            "NB-padr: 0.768 (0.011)\n",
            "SVM-padr: 0.805 (0.010)\n",
            "Bag-padr: 0.761 (0.011)\n",
            "RF-padr: 0.761 (0.009)\n",
            "ET-padr: 0.753 (0.009)\n",
            "Ada-padr: 0.808 (0.007)\n",
            "GB-padr: 0.808 (0.009)\n",
            "Vot-padr: 0.801 (0.009)\n",
            "LR-norm: 0.795 (0.008)\n",
            "CART-norm: 0.740 (0.008)\n",
            "KNN-norm: 0.781 (0.009)\n",
            "NB-norm: 0.768 (0.011)\n",
            "SVM-norm: 0.802 (0.010)\n",
            "Bag-norm: 0.759 (0.009)\n",
            "RF-norm: 0.763 (0.009)\n",
            "ET-norm: 0.753 (0.008)\n",
            "Ada-norm: 0.808 (0.007)\n",
            "GB-norm: 0.808 (0.009)\n",
            "Vot-norm: 0.800 (0.008)\n"
          ]
        },
        {
          "data": {
            "image/png": "[encoded data removed]",
            "text/plain": [
              "<Figure size 2500x600 with 1 Axes>"
            ]
          },
          "metadata": {},
          "output_type": "display_data"
        }
      ],
      "source": [
        "# Métodos de Transformação dos Dados\n",
        "\n",
        "from sklearn.preprocessing import MinMaxScaler #para normalização dos dados\n",
        "from sklearn.preprocessing import StandardScaler #para padronização dos dados\n",
        "\n",
        "# Definindo uma seed (semente) global para esta célula de código\n",
        "np.random.seed(7)\n",
        "\n",
        "# Listas para armazenar os armazenar os pipelines, os resultados e os nomes para todas as visões do dataset\n",
        "pipelines = []\n",
        "results = []\n",
        "names = []\n",
        "\n",
        "\n",
        "# Algoritmos que serão utilizados\n",
        "reg_log = ('LR', LogisticRegression(max_iter=2000))\n",
        "cart = ('CART', DecisionTreeClassifier())\n",
        "knn = ('KNN', KNeighborsClassifier())\n",
        "naive_bayes = ('NB', GaussianNB())\n",
        "svm = ('SVM', SVC())\n",
        "bagging = ('Bag', BaggingClassifier(base_estimator=base, n_estimators=num_trees))\n",
        "random_forest = ('RF', RandomForestClassifier(n_estimators=num_trees, max_features=max_features))\n",
        "extra_trees = ('ET', ExtraTreesClassifier(n_estimators=num_trees, max_features=max_features))\n",
        "adaboost = ('Ada', AdaBoostClassifier(n_estimators=num_trees))\n",
        "gradient_boosting = ('GB', GradientBoostingClassifier(n_estimators=num_trees))\n",
        "voting = ('Voting', VotingClassifier(bases))\n",
        "\n",
        "# Transformações que serão utilizadas\n",
        "min_max_scaler = ('MinMaxScaler', MinMaxScaler())   # Normalização\n",
        "standard_scaler = ('StandardScaler', StandardScaler())   # Padronização\n",
        "\n",
        "# Montando os pipelines\n",
        "\n",
        "# Dataset original\n",
        "pipelines.append(('LR-orig', Pipeline([reg_log])))\n",
        "pipelines.append(('CART-orig', Pipeline([cart])))\n",
        "pipelines.append(('KNN-orig', Pipeline([knn])))\n",
        "pipelines.append(('NB-orig', Pipeline([naive_bayes])))\n",
        "pipelines.append(('SVM-orig', Pipeline([svm])))\n",
        "pipelines.append(('Bag-orig', Pipeline([bagging])))\n",
        "pipelines.append(('RF-orig', Pipeline([random_forest])))\n",
        "pipelines.append(('ET-orig', Pipeline([extra_trees])))\n",
        "pipelines.append(('Ada-orig', Pipeline([adaboost])))\n",
        "pipelines.append(('GB-orig', Pipeline([gradient_boosting])))\n",
        "pipelines.append(('Vot-orig', Pipeline([voting])))\n",
        "\n",
        "# Dataset Padronizado\n",
        "pipelines.append(('LR-padr', Pipeline([standard_scaler, reg_log])))\n",
        "pipelines.append(('CART-padr', Pipeline([standard_scaler, cart])))\n",
        "pipelines.append(('KNN-padr', Pipeline([standard_scaler, knn])))\n",
        "pipelines.append(('NB-padr', Pipeline([standard_scaler, naive_bayes])))\n",
        "pipelines.append(('SVM-padr', Pipeline([standard_scaler, svm])))\n",
        "pipelines.append(('Bag-padr', Pipeline([standard_scaler, bagging])))\n",
        "pipelines.append(('RF-padr', Pipeline([standard_scaler, random_forest])))\n",
        "pipelines.append(('ET-padr', Pipeline([standard_scaler, extra_trees])))\n",
        "pipelines.append(('Ada-padr', Pipeline([standard_scaler, adaboost])))\n",
        "pipelines.append(('GB-padr', Pipeline([standard_scaler, gradient_boosting])))\n",
        "pipelines.append(('Vot-padr', Pipeline([standard_scaler, voting])))\n",
        "\n",
        "# Dataset Normalizado\n",
        "pipelines.append(('LR-norm', Pipeline([min_max_scaler, reg_log])))\n",
        "pipelines.append(('CART-norm', Pipeline([min_max_scaler, cart])))\n",
        "pipelines.append(('KNN-norm', Pipeline([min_max_scaler, knn])))\n",
        "pipelines.append(('NB-norm', Pipeline([min_max_scaler, naive_bayes])))\n",
        "pipelines.append(('SVM-norm', Pipeline([min_max_scaler, svm])))\n",
        "pipelines.append(('Bag-norm', Pipeline([min_max_scaler, bagging])))\n",
        "pipelines.append(('RF-norm', Pipeline([min_max_scaler, random_forest])))\n",
        "pipelines.append(('ET-norm', Pipeline([min_max_scaler, extra_trees])))\n",
        "pipelines.append(('Ada-norm', Pipeline([min_max_scaler, adaboost])))\n",
        "pipelines.append(('GB-norm', Pipeline([min_max_scaler, gradient_boosting])))\n",
        "pipelines.append(('Vot-norm', Pipeline([min_max_scaler, voting])))\n",
        "\n",
        "# Executando os pipelines\n",
        "for name, model in pipelines:\n",
        "    cv_results = cross_val_score(model, X_train, y_train, cv=skf, scoring='accuracy')\n",
        "    results.append(cv_results)\n",
        "    names.append(name)\n",
        "    msg = \"%s: %.3f (%.3f)\" % (name, cv_results.mean(), cv_results.std()) # formatando para 3 casas decimais\n",
        "    print(msg)\n",
        "\n",
        "# Boxplot de comparação dos modelos\n",
        "fig = plt.figure(figsize=(25,6))\n",
        "fig.suptitle('Comparação dos Modelos - Dataset orginal, padronizado e normalizado')\n",
        "ax = fig.add_subplot(111)\n",
        "plt.boxplot(results)\n",
        "ax.set_xticklabels(names, rotation=90)\n",
        "plt.show()\n"
      ]
    },
    {
      "cell_type": "markdown",
      "metadata": {
        "id": "aQemZTi162GW"
      },
      "source": [
        "De maneira geral, tanto a padronização quanto a normalização não alteram muito a acurácia dos modelos. Nos modelos KNN e Volting, a acurácia aumentou cerca de 1%. No modelo SVM, o aumento foi maior, em torno de 3%, e sua acurácia passou para 80,5% após a padronização do dataset.\n",
        "\n",
        "Entre os dois métodos, no objetivo de melhorar a acurácia dos modelos, a padronização foi mais efetiva que a normalização.\n",
        "\n",
        "Ainda assim, aparentemente, existe espaço para perseguir na melhoria dos modelos preditores.\n",
        "\n",
        "A segunda etapa é a de dedicar atenção ao processo de seleção de atributos, conhecido como **feature selection**. Será visto a seguir.\n"
      ]
    },
    {
      "cell_type": "markdown",
      "metadata": {
        "id": "wFpta1C5GWxm"
      },
      "source": [
        "## **7. Aprimoramento da Modelagem (*Feature Selection*)**\n",
        "\n",
        "O feature selection é um processo importante porque atributos irrelevantes ou parcialmente relevantes podem afetar negativamente o resultado do modelo. Na verdade, ele antecede a etapa de modelagem. Porém, nesse trabalho, ele está sendo pontuado agora porque é salutar fazer a comparação do resultado antes e depois de sua aplicação.\n",
        "\n",
        "Para isso, no nosso código, será utilizada a função SelectBest(), que é um método de seleção univariada de atributos. Nesse tipo de técnica, testes estatíticos são usados para selecionar os atributos que tenham relação mais forte com a variável de saída.\n",
        "\n",
        "Foi testada a redução do dataset de oito para 4, 5 e 6 atributos, e a redução para 6 foi a que mais contribuiu para aumentar a acurácia em relação aos resultados originais.  \n",
        "\n",
        "Sendo assim, faremos diretamente a redução de 8 para 6 atributos."
      ]
    },
    {
      "cell_type": "code",
      "execution_count": null,
      "metadata": {
        "colab": {
          "base_uri": "https://localhost:8080/"
        },
        "id": "37oekZZNTVTF",
        "outputId": "118c12d8-305d-4356-a3a2-145a7edae75e"
      },
      "outputs": [
        {
          "name": "stdout",
          "output_type": "stream",
          "text": [
            "\n",
            "Número original de atributos: 8\n",
            "\n",
            "Número reduzido de atributos: 6\n",
            "\n",
            "Atributos Originais: Index(['woman', 'age', 'education', 'work', 'metropolitan_area', 'non_white',\n",
            "       'urban', 'work_permit'],\n",
            "      dtype='object')\n",
            "\n",
            "Scores dos Atributos Originais: [ 120.807   19.5   2419.041  490.134  262.969  747.235 1353.555  144.622]\n",
            "\n",
            "Atributos Selecionados: ['education' 'work' 'metropolitan_area' 'non_white' 'urban' 'work_permit']\n"
          ]
        }
      ],
      "source": [
        "# Imports necessários para esta etapa\n",
        "\n",
        "from sklearn.feature_selection import SelectKBest # para a Seleção Univariada\n",
        "from sklearn.feature_selection import f_classif # para o teste ANOVA da Seleção Univariada\n",
        "\n",
        "# Feature Selection - Método da Seleção Univariada\n",
        "\n",
        "# SelectKBest\n",
        "\n",
        "# Seleção de atributos com SelectKBest. Redução da quantidade de atributos de 8 para 6 (k) atributos\n",
        "best_var = SelectKBest(score_func=f_classif, k=6)\n",
        "\n",
        "# Executa a função de pontuação em (X, y) e obtém os atributos selecionados\n",
        "fit = best_var.fit(X, y)\n",
        "\n",
        "# Reduz X para os atributos selecionados\n",
        "features = fit.transform(X)\n",
        "\n",
        "# Resultados\n",
        "print('\\nNúmero original de atributos:', X.shape[1])\n",
        "print('\\nNúmero reduzido de atributos:', features.shape[1])\n",
        "\n",
        "# Exibe os atributos orginais\n",
        "print(\"\\nAtributos Originais:\", dataset.columns[0:8])\n",
        "\n",
        "# Exibe as pontuações de cada atributos e os 4 escolhidas (com as pontuações mais altas)\n",
        "np.set_printoptions(precision=3) # 3 casas decimais\n",
        "print(\"\\nScores dos Atributos Originais:\", fit.scores_)\n",
        "print(\"\\nAtributos Selecionados:\", best_var.get_feature_names_out(input_features=dataset.columns[0:8]))"
      ]
    },
    {
      "cell_type": "markdown",
      "metadata": {
        "id": "Cs-5x7XuerDY"
      },
      "source": [
        "\n",
        "\n",
        "Por este método, os atributos \"woman\" e \"age\" se mostraram os dois menos relevantes para o modelo e, por isso, serão removidos.\n",
        "\n"
      ]
    },
    {
      "cell_type": "code",
      "execution_count": null,
      "metadata": {
        "colab": {
          "base_uri": "https://localhost:8080/",
          "height": 423
        },
        "id": "drBilWovaENH",
        "outputId": "e724af04-65ed-4cf9-df35-45acf4c4a8ce"
      },
      "outputs": [
        {
          "data": {
            "application/vnd.google.colaboratory.intrinsic+json": {
              "summary": "{\n  \"name\": \"X[best_var\",\n  \"rows\": 20730,\n  \"fields\": [\n    {\n      \"column\": \"education\",\n      \"properties\": {\n        \"dtype\": \"number\",\n        \"std\": 1,\n        \"min\": 1,\n        \"max\": 7,\n        \"num_unique_values\": 7,\n        \"samples\": [\n          6,\n          5,\n          4\n        ],\n        \"semantic_type\": \"\",\n        \"description\": \"\"\n      }\n    },\n    {\n      \"column\": \"work\",\n      \"properties\": {\n        \"dtype\": \"number\",\n        \"std\": 3,\n        \"min\": 1,\n        \"max\": 12,\n        \"num_unique_values\": 12,\n        \"samples\": [\n          10,\n          5,\n          1\n        ],\n        \"semantic_type\": \"\",\n        \"description\": \"\"\n      }\n    },\n    {\n      \"column\": \"metropolitan_area\",\n      \"properties\": {\n        \"dtype\": \"number\",\n        \"std\": 0,\n        \"min\": 0,\n        \"max\": 1,\n        \"num_unique_values\": 2,\n        \"samples\": [\n          1,\n          0\n        ],\n        \"semantic_type\": \"\",\n        \"description\": \"\"\n      }\n    },\n    {\n      \"column\": \"non_white\",\n      \"properties\": {\n        \"dtype\": \"number\",\n        \"std\": 0.4979251614129884,\n        \"min\": 0.0,\n        \"max\": 1.0,\n        \"num_unique_values\": 2,\n        \"samples\": [\n          1.0,\n          0.0\n        ],\n        \"semantic_type\": \"\",\n        \"description\": \"\"\n      }\n    },\n    {\n      \"column\": \"urban\",\n      \"properties\": {\n        \"dtype\": \"number\",\n        \"std\": 0,\n        \"min\": 0,\n        \"max\": 1,\n        \"num_unique_values\": 2,\n        \"samples\": [\n          0,\n          1\n        ],\n        \"semantic_type\": \"\",\n        \"description\": \"\"\n      }\n    },\n    {\n      \"column\": \"work_permit\",\n      \"properties\": {\n        \"dtype\": \"number\",\n        \"std\": 0,\n        \"min\": 0,\n        \"max\": 2,\n        \"num_unique_values\": 3,\n        \"samples\": [\n          2,\n          1\n        ],\n        \"semantic_type\": \"\",\n        \"description\": \"\"\n      }\n    }\n  ]\n}",
              "type": "dataframe"
            },
            "text/html": [
              "\n",
              "  <div id=\"df-ee9e4d51-b467-45ab-a618-e6191d463eaf\" class=\"colab-df-container\">\n",
              "    <div>\n",
              "<style scoped>\n",
              "    .dataframe tbody tr th:only-of-type {\n",
              "        vertical-align: middle;\n",
              "    }\n",
              "\n",
              "    .dataframe tbody tr th {\n",
              "        vertical-align: top;\n",
              "    }\n",
              "\n",
              "    .dataframe thead th {\n",
              "        text-align: right;\n",
              "    }\n",
              "</style>\n",
              "<table border=\"1\" class=\"dataframe\">\n",
              "  <thead>\n",
              "    <tr style=\"text-align: right;\">\n",
              "      <th></th>\n",
              "      <th>education</th>\n",
              "      <th>work</th>\n",
              "      <th>metropolitan_area</th>\n",
              "      <th>non_white</th>\n",
              "      <th>urban</th>\n",
              "      <th>work_permit</th>\n",
              "    </tr>\n",
              "  </thead>\n",
              "  <tbody>\n",
              "    <tr>\n",
              "      <th>15234</th>\n",
              "      <td>6</td>\n",
              "      <td>1</td>\n",
              "      <td>0</td>\n",
              "      <td>0.0</td>\n",
              "      <td>1</td>\n",
              "      <td>2</td>\n",
              "    </tr>\n",
              "    <tr>\n",
              "      <th>11601</th>\n",
              "      <td>5</td>\n",
              "      <td>6</td>\n",
              "      <td>0</td>\n",
              "      <td>0.0</td>\n",
              "      <td>1</td>\n",
              "      <td>2</td>\n",
              "    </tr>\n",
              "    <tr>\n",
              "      <th>8282</th>\n",
              "      <td>7</td>\n",
              "      <td>4</td>\n",
              "      <td>0</td>\n",
              "      <td>0.0</td>\n",
              "      <td>1</td>\n",
              "      <td>2</td>\n",
              "    </tr>\n",
              "    <tr>\n",
              "      <th>16241</th>\n",
              "      <td>7</td>\n",
              "      <td>8</td>\n",
              "      <td>0</td>\n",
              "      <td>0.0</td>\n",
              "      <td>1</td>\n",
              "      <td>2</td>\n",
              "    </tr>\n",
              "    <tr>\n",
              "      <th>3804</th>\n",
              "      <td>5</td>\n",
              "      <td>11</td>\n",
              "      <td>1</td>\n",
              "      <td>1.0</td>\n",
              "      <td>1</td>\n",
              "      <td>1</td>\n",
              "    </tr>\n",
              "    <tr>\n",
              "      <th>...</th>\n",
              "      <td>...</td>\n",
              "      <td>...</td>\n",
              "      <td>...</td>\n",
              "      <td>...</td>\n",
              "      <td>...</td>\n",
              "      <td>...</td>\n",
              "    </tr>\n",
              "    <tr>\n",
              "      <th>919</th>\n",
              "      <td>5</td>\n",
              "      <td>3</td>\n",
              "      <td>1</td>\n",
              "      <td>1.0</td>\n",
              "      <td>1</td>\n",
              "      <td>2</td>\n",
              "    </tr>\n",
              "    <tr>\n",
              "      <th>20692</th>\n",
              "      <td>2</td>\n",
              "      <td>5</td>\n",
              "      <td>1</td>\n",
              "      <td>0.0</td>\n",
              "      <td>1</td>\n",
              "      <td>1</td>\n",
              "    </tr>\n",
              "    <tr>\n",
              "      <th>5699</th>\n",
              "      <td>7</td>\n",
              "      <td>9</td>\n",
              "      <td>0</td>\n",
              "      <td>1.0</td>\n",
              "      <td>1</td>\n",
              "      <td>2</td>\n",
              "    </tr>\n",
              "    <tr>\n",
              "      <th>10743</th>\n",
              "      <td>5</td>\n",
              "      <td>6</td>\n",
              "      <td>1</td>\n",
              "      <td>1.0</td>\n",
              "      <td>1</td>\n",
              "      <td>1</td>\n",
              "    </tr>\n",
              "    <tr>\n",
              "      <th>16922</th>\n",
              "      <td>6</td>\n",
              "      <td>9</td>\n",
              "      <td>1</td>\n",
              "      <td>0.0</td>\n",
              "      <td>1</td>\n",
              "      <td>1</td>\n",
              "    </tr>\n",
              "  </tbody>\n",
              "</table>\n",
              "<p>20730 rows × 6 columns</p>\n",
              "</div>\n",
              "    <div class=\"colab-df-buttons\">\n",
              "\n",
              "  <div class=\"colab-df-container\">\n",
              "    <button class=\"colab-df-convert\" onclick=\"convertToInteractive('df-ee9e4d51-b467-45ab-a618-e6191d463eaf')\"\n",
              "            title=\"Convert this dataframe to an interactive table.\"\n",
              "            style=\"display:none;\">\n",
              "\n",
              "  <svg xmlns=\"http://www.w3.org/2000/svg\" height=\"24px\" viewBox=\"0 -960 960 960\">\n",
              "    <path d=\"M120-120v-720h720v720H120Zm60-500h600v-160H180v160Zm220 220h160v-160H400v160Zm0 220h160v-160H400v160ZM180-400h160v-160H180v160Zm440 0h160v-160H620v160ZM180-180h160v-160H180v160Zm440 0h160v-160H620v160Z\"/>\n",
              "  </svg>\n",
              "    </button>\n",
              "\n",
              "  <style>\n",
              "    .colab-df-container {\n",
              "      display:flex;\n",
              "      gap: 12px;\n",
              "    }\n",
              "\n",
              "    .colab-df-convert {\n",
              "      background-color: #E8F0FE;\n",
              "      border: none;\n",
              "      border-radius: 50%;\n",
              "      cursor: pointer;\n",
              "      display: none;\n",
              "      fill: #1967D2;\n",
              "      height: 32px;\n",
              "      padding: 0 0 0 0;\n",
              "      width: 32px;\n",
              "    }\n",
              "\n",
              "    .colab-df-convert:hover {\n",
              "      background-color: #E2EBFA;\n",
              "      box-shadow: 0px 1px 2px rgba(60, 64, 67, 0.3), 0px 1px 3px 1px rgba(60, 64, 67, 0.15);\n",
              "      fill: #174EA6;\n",
              "    }\n",
              "\n",
              "    .colab-df-buttons div {\n",
              "      margin-bottom: 4px;\n",
              "    }\n",
              "\n",
              "    [theme=dark] .colab-df-convert {\n",
              "      background-color: #3B4455;\n",
              "      fill: #D2E3FC;\n",
              "    }\n",
              "\n",
              "    [theme=dark] .colab-df-convert:hover {\n",
              "      background-color: #434B5C;\n",
              "      box-shadow: 0px 1px 3px 1px rgba(0, 0, 0, 0.15);\n",
              "      filter: drop-shadow(0px 1px 2px rgba(0, 0, 0, 0.3));\n",
              "      fill: #FFFFFF;\n",
              "    }\n",
              "  </style>\n",
              "\n",
              "    <script>\n",
              "      const buttonEl =\n",
              "        document.querySelector('#df-ee9e4d51-b467-45ab-a618-e6191d463eaf button.colab-df-convert');\n",
              "      buttonEl.style.display =\n",
              "        google.colab.kernel.accessAllowed ? 'block' : 'none';\n",
              "\n",
              "      async function convertToInteractive(key) {\n",
              "        const element = document.querySelector('#df-ee9e4d51-b467-45ab-a618-e6191d463eaf');\n",
              "        const dataTable =\n",
              "          await google.colab.kernel.invokeFunction('convertToInteractive',\n",
              "                                                    [key], {});\n",
              "        if (!dataTable) return;\n",
              "\n",
              "        const docLinkHtml = 'Like what you see? Visit the ' +\n",
              "          '<a target=\"_blank\" href=https://colab.research.google.com/notebooks/data_table.ipynb>data table notebook</a>'\n",
              "          + ' to learn more about interactive tables.';\n",
              "        element.innerHTML = '';\n",
              "        dataTable['output_type'] = 'display_data';\n",
              "        await google.colab.output.renderOutput(dataTable, element);\n",
              "        const docLink = document.createElement('div');\n",
              "        docLink.innerHTML = docLinkHtml;\n",
              "        element.appendChild(docLink);\n",
              "      }\n",
              "    </script>\n",
              "  </div>\n",
              "\n",
              "\n",
              "<div id=\"df-ee1153aa-588a-4ccc-8431-d486d7073c50\">\n",
              "  <button class=\"colab-df-quickchart\" onclick=\"quickchart('df-ee1153aa-588a-4ccc-8431-d486d7073c50')\"\n",
              "            title=\"Suggest charts\"\n",
              "            style=\"display:none;\">\n",
              "\n",
              "<svg xmlns=\"http://www.w3.org/2000/svg\" height=\"24px\"viewBox=\"0 0 24 24\"\n",
              "     width=\"24px\">\n",
              "    <g>\n",
              "        <path d=\"M19 3H5c-1.1 0-2 .9-2 2v14c0 1.1.9 2 2 2h14c1.1 0 2-.9 2-2V5c0-1.1-.9-2-2-2zM9 17H7v-7h2v7zm4 0h-2V7h2v10zm4 0h-2v-4h2v4z\"/>\n",
              "    </g>\n",
              "</svg>\n",
              "  </button>\n",
              "\n",
              "<style>\n",
              "  .colab-df-quickchart {\n",
              "      --bg-color: #E8F0FE;\n",
              "      --fill-color: #1967D2;\n",
              "      --hover-bg-color: #E2EBFA;\n",
              "      --hover-fill-color: #174EA6;\n",
              "      --disabled-fill-color: #AAA;\n",
              "      --disabled-bg-color: #DDD;\n",
              "  }\n",
              "\n",
              "  [theme=dark] .colab-df-quickchart {\n",
              "      --bg-color: #3B4455;\n",
              "      --fill-color: #D2E3FC;\n",
              "      --hover-bg-color: #434B5C;\n",
              "      --hover-fill-color: #FFFFFF;\n",
              "      --disabled-bg-color: #3B4455;\n",
              "      --disabled-fill-color: #666;\n",
              "  }\n",
              "\n",
              "  .colab-df-quickchart {\n",
              "    background-color: var(--bg-color);\n",
              "    border: none;\n",
              "    border-radius: 50%;\n",
              "    cursor: pointer;\n",
              "    display: none;\n",
              "    fill: var(--fill-color);\n",
              "    height: 32px;\n",
              "    padding: 0;\n",
              "    width: 32px;\n",
              "  }\n",
              "\n",
              "  .colab-df-quickchart:hover {\n",
              "    background-color: var(--hover-bg-color);\n",
              "    box-shadow: 0 1px 2px rgba(60, 64, 67, 0.3), 0 1px 3px 1px rgba(60, 64, 67, 0.15);\n",
              "    fill: var(--button-hover-fill-color);\n",
              "  }\n",
              "\n",
              "  .colab-df-quickchart-complete:disabled,\n",
              "  .colab-df-quickchart-complete:disabled:hover {\n",
              "    background-color: var(--disabled-bg-color);\n",
              "    fill: var(--disabled-fill-color);\n",
              "    box-shadow: none;\n",
              "  }\n",
              "\n",
              "  .colab-df-spinner {\n",
              "    border: 2px solid var(--fill-color);\n",
              "    border-color: transparent;\n",
              "    border-bottom-color: var(--fill-color);\n",
              "    animation:\n",
              "      spin 1s steps(1) infinite;\n",
              "  }\n",
              "\n",
              "  @keyframes spin {\n",
              "    0% {\n",
              "      border-color: transparent;\n",
              "      border-bottom-color: var(--fill-color);\n",
              "      border-left-color: var(--fill-color);\n",
              "    }\n",
              "    20% {\n",
              "      border-color: transparent;\n",
              "      border-left-color: var(--fill-color);\n",
              "      border-top-color: var(--fill-color);\n",
              "    }\n",
              "    30% {\n",
              "      border-color: transparent;\n",
              "      border-left-color: var(--fill-color);\n",
              "      border-top-color: var(--fill-color);\n",
              "      border-right-color: var(--fill-color);\n",
              "    }\n",
              "    40% {\n",
              "      border-color: transparent;\n",
              "      border-right-color: var(--fill-color);\n",
              "      border-top-color: var(--fill-color);\n",
              "    }\n",
              "    60% {\n",
              "      border-color: transparent;\n",
              "      border-right-color: var(--fill-color);\n",
              "    }\n",
              "    80% {\n",
              "      border-color: transparent;\n",
              "      border-right-color: var(--fill-color);\n",
              "      border-bottom-color: var(--fill-color);\n",
              "    }\n",
              "    90% {\n",
              "      border-color: transparent;\n",
              "      border-bottom-color: var(--fill-color);\n",
              "    }\n",
              "  }\n",
              "</style>\n",
              "\n",
              "  <script>\n",
              "    async function quickchart(key) {\n",
              "      const quickchartButtonEl =\n",
              "        document.querySelector('#' + key + ' button');\n",
              "      quickchartButtonEl.disabled = true;  // To prevent multiple clicks.\n",
              "      quickchartButtonEl.classList.add('colab-df-spinner');\n",
              "      try {\n",
              "        const charts = await google.colab.kernel.invokeFunction(\n",
              "            'suggestCharts', [key], {});\n",
              "      } catch (error) {\n",
              "        console.error('Error during call to suggestCharts:', error);\n",
              "      }\n",
              "      quickchartButtonEl.classList.remove('colab-df-spinner');\n",
              "      quickchartButtonEl.classList.add('colab-df-quickchart-complete');\n",
              "    }\n",
              "    (() => {\n",
              "      let quickchartButtonEl =\n",
              "        document.querySelector('#df-ee1153aa-588a-4ccc-8431-d486d7073c50 button');\n",
              "      quickchartButtonEl.style.display =\n",
              "        google.colab.kernel.accessAllowed ? 'block' : 'none';\n",
              "    })();\n",
              "  </script>\n",
              "</div>\n",
              "\n",
              "    </div>\n",
              "  </div>\n"
            ],
            "text/plain": [
              "       education  work  metropolitan_area  non_white  urban  work_permit\n",
              "15234          6     1                  0        0.0      1            2\n",
              "11601          5     6                  0        0.0      1            2\n",
              "8282           7     4                  0        0.0      1            2\n",
              "16241          7     8                  0        0.0      1            2\n",
              "3804           5    11                  1        1.0      1            1\n",
              "...          ...   ...                ...        ...    ...          ...\n",
              "919            5     3                  1        1.0      1            2\n",
              "20692          2     5                  1        0.0      1            1\n",
              "5699           7     9                  0        1.0      1            2\n",
              "10743          5     6                  1        1.0      1            1\n",
              "16922          6     9                  1        0.0      1            1\n",
              "\n",
              "[20730 rows x 6 columns]"
            ]
          },
          "execution_count": 11,
          "metadata": {},
          "output_type": "execute_result"
        }
      ],
      "source": [
        "# Exibição do novo dataset, modificado após a retirada dos atributos \"woman\" e \"age\"\n",
        "\n",
        "X[best_var.get_feature_names_out(input_features=dataset.columns[0:8])]"
      ]
    },
    {
      "cell_type": "code",
      "execution_count": null,
      "metadata": {
        "id": "nPkFqdvda2u3"
      },
      "outputs": [],
      "source": [
        "# Guarda o novo conjunto de dados após feature selection na variável x_selected\n",
        "\n",
        "X_selected = X[best_var.get_feature_names_out(input_features=dataset.columns[0:8])]"
      ]
    },
    {
      "cell_type": "markdown",
      "metadata": {
        "id": "hP_m9xvgffNf"
      },
      "source": [
        "\n",
        "\n",
        "Com o novo conjunto de dados, novas rodadas serão feitas com o objetivo de comparar os resultados anteriores com os resultados após a redução dos atributos \"woman\" e \"age\" do dataset original.\n",
        "\n"
      ]
    },
    {
      "cell_type": "code",
      "execution_count": null,
      "metadata": {
        "colab": {
          "base_uri": "https://localhost:8080/",
          "height": 1000
        },
        "id": "tU-N-INmioAN",
        "outputId": "ccf78626-c956-412d-f8f8-e14faa010b13"
      },
      "outputs": [
        {
          "name": "stdout",
          "output_type": "stream",
          "text": [
            "LR-orig: 0.795 (0.008)\n",
            "LR-orig_sf: 0.792 (0.006)\n",
            "CART-orig: 0.740 (0.010)\n",
            "CART-orig_sf: 0.793 (0.009)\n",
            "KNN-orig: 0.780 (0.006)\n",
            "KNN-orig_sf: 0.770 (0.012)\n",
            "NB-orig: 0.768 (0.011)\n",
            "NB-orig_sf: 0.771 (0.009)\n",
            "SVM-orig: 0.777 (0.000)\n",
            "SVM-orig_sf: 0.789 (0.006)\n",
            "Bag-orig: 0.760 (0.011)\n",
            "Bag-orig_sf: 0.794 (0.009)\n",
            "RF-orig: 0.764 (0.010)\n",
            "RF-orig_sf: 0.794 (0.010)\n",
            "ET-orig: 0.753 (0.008)\n",
            "ET-orig_sf: 0.793 (0.009)\n",
            "Ada-orig: 0.808 (0.007)\n",
            "Ada-orig_sf: 0.804 (0.010)\n",
            "GB-orig: 0.808 (0.009)\n",
            "GB-orig_sf: 0.805 (0.011)\n",
            "Vot-orig: 0.792 (0.005)\n",
            "Vot-orig_sf: 0.794 (0.006)\n",
            "LR-padr: 0.795 (0.008)\n",
            "LR-padr_sf: 0.792 (0.007)\n",
            "CART-padr: 0.740 (0.009)\n",
            "CART-padr_sf: 0.793 (0.010)\n",
            "KNN-padr: 0.783 (0.007)\n",
            "KNN-padr_sf: 0.775 (0.012)\n",
            "NB-padr: 0.768 (0.011)\n",
            "NB-padr_sf: 0.771 (0.009)\n",
            "SVM-padr: 0.805 (0.010)\n",
            "SVM-padr_sf: 0.803 (0.009)\n",
            "Bag-padr: 0.759 (0.009)\n",
            "Bag-padr_sf: 0.794 (0.010)\n",
            "RF-padr: 0.762 (0.010)\n",
            "RF-padr_sf: 0.794 (0.009)\n",
            "ET-padr: 0.753 (0.009)\n",
            "ET-padr_sf: 0.793 (0.009)\n",
            "Ada-padr: 0.808 (0.007)\n",
            "Ada-padr_sf: 0.804 (0.010)\n",
            "GB-padr: 0.808 (0.009)\n",
            "GB-padr_sf: 0.805 (0.011)\n",
            "Vot-padr: 0.802 (0.009)\n",
            "Vot-padr_sf: 0.801 (0.008)\n",
            "LR-norm: 0.795 (0.008)\n",
            "LR-norm_sf: 0.792 (0.006)\n",
            "CART-norm: 0.739 (0.010)\n",
            "CART-norm_sf: 0.793 (0.009)\n",
            "KNN-norm: 0.781 (0.009)\n",
            "KNN-norm_sf: 0.774 (0.006)\n",
            "NB-norm: 0.768 (0.011)\n",
            "NB-norm_sf: 0.771 (0.009)\n",
            "SVM-norm: 0.802 (0.010)\n",
            "SVM-norm_sf: 0.802 (0.008)\n",
            "Bag-norm: 0.761 (0.009)\n",
            "Bag-norm_sf: 0.793 (0.009)\n",
            "RF-norm: 0.762 (0.010)\n",
            "RF-norm_sf: 0.794 (0.009)\n",
            "ET-norm: 0.753 (0.008)\n",
            "ET-norm_sf: 0.793 (0.010)\n",
            "Ada-norm: 0.808 (0.007)\n",
            "Ada-norm_sf: 0.804 (0.010)\n",
            "GB-norm: 0.808 (0.009)\n",
            "GB-norm_sf: 0.805 (0.011)\n",
            "Vot-norm: 0.800 (0.008)\n",
            "Vot-norm_sf: 0.801 (0.008)\n"
          ]
        },
        {
          "data": {
            "image/png": "[encoded data removed]",
            "text/plain": [
              "<Figure size 2500x600 with 1 Axes>"
            ]
          },
          "metadata": {},
          "output_type": "display_data"
        }
      ],
      "source": [
        "selected_features = best_var.get_feature_names_out(input_features=dataset.columns[0:8])\n",
        "\n",
        "# Definindo uma seed (semente) global para esta célula de código\n",
        "np.random.seed(7)\n",
        "\n",
        "# Listas para armazenar os armazenar os pipelines, os resultados e os nomes para todas as visões do dataset\n",
        "pipelines = []\n",
        "results = []\n",
        "names = []\n",
        "\n",
        "\n",
        "# Criando os elementos do pipeline\n",
        "\n",
        "# Algoritmos que serão utilizados\n",
        "reg_log = ('LR', LogisticRegression(max_iter=2000))\n",
        "cart = ('CART', DecisionTreeClassifier())\n",
        "knn = ('KNN', KNeighborsClassifier())\n",
        "naive_bayes = ('NB', GaussianNB())\n",
        "svm = ('SVM', SVC())\n",
        "bagging = ('Bag', BaggingClassifier(base_estimator=base, n_estimators=num_trees))\n",
        "random_forest = ('RF', RandomForestClassifier(n_estimators=num_trees, max_features=max_features))\n",
        "extra_trees = ('ET', ExtraTreesClassifier(n_estimators=num_trees, max_features=max_features))\n",
        "adaboost = ('Ada', AdaBoostClassifier(n_estimators=num_trees))\n",
        "gradient_boosting = ('GB', GradientBoostingClassifier(n_estimators=num_trees))\n",
        "voting = ('Voting', VotingClassifier(bases))\n",
        "\n",
        "# Transformações que serão utilizadas\n",
        "min_max_scaler = ('MinMaxScaler', MinMaxScaler())\n",
        "standard_scaler = ('StandardScaler', StandardScaler())\n",
        "\n",
        "# Montando os pipelines\n",
        "\n",
        "# Dataset original\n",
        "pipelines.append(('LR-orig', Pipeline([reg_log])))\n",
        "pipelines.append(('CART-orig', Pipeline([cart])))\n",
        "pipelines.append(('KNN-orig', Pipeline([knn])))\n",
        "pipelines.append(('NB-orig', Pipeline([naive_bayes])))\n",
        "pipelines.append(('SVM-orig', Pipeline([svm])))\n",
        "pipelines.append(('Bag-orig', Pipeline([bagging])))\n",
        "pipelines.append(('RF-orig', Pipeline([random_forest])))\n",
        "pipelines.append(('ET-orig', Pipeline([extra_trees])))\n",
        "pipelines.append(('Ada-orig', Pipeline([adaboost])))\n",
        "pipelines.append(('GB-orig', Pipeline([gradient_boosting])))\n",
        "pipelines.append(('Vot-orig', Pipeline([voting])))\n",
        "\n",
        "# Dataset Padronizado\n",
        "pipelines.append(('LR-padr', Pipeline([standard_scaler, reg_log])))\n",
        "pipelines.append(('CART-padr', Pipeline([standard_scaler, cart])))\n",
        "pipelines.append(('KNN-padr', Pipeline([standard_scaler, knn])))\n",
        "pipelines.append(('NB-padr', Pipeline([standard_scaler, naive_bayes])))\n",
        "pipelines.append(('SVM-padr', Pipeline([standard_scaler, svm])))\n",
        "pipelines.append(('Bag-padr', Pipeline([standard_scaler, bagging])))\n",
        "pipelines.append(('RF-padr', Pipeline([standard_scaler, random_forest])))\n",
        "pipelines.append(('ET-padr', Pipeline([standard_scaler, extra_trees])))\n",
        "pipelines.append(('Ada-padr', Pipeline([standard_scaler, adaboost])))\n",
        "pipelines.append(('GB-padr', Pipeline([standard_scaler, gradient_boosting])))\n",
        "pipelines.append(('Vot-padr', Pipeline([standard_scaler, voting])))\n",
        "\n",
        "# Dataset Normalizado\n",
        "pipelines.append(('LR-norm', Pipeline([min_max_scaler, reg_log])))\n",
        "pipelines.append(('CART-norm', Pipeline([min_max_scaler, cart])))\n",
        "pipelines.append(('KNN-norm', Pipeline([min_max_scaler, knn])))\n",
        "pipelines.append(('NB-norm', Pipeline([min_max_scaler, naive_bayes])))\n",
        "pipelines.append(('SVM-norm', Pipeline([min_max_scaler, svm])))\n",
        "pipelines.append(('Bag-norm', Pipeline([min_max_scaler, bagging])))\n",
        "pipelines.append(('RF-norm', Pipeline([min_max_scaler, random_forest])))\n",
        "pipelines.append(('ET-norm', Pipeline([min_max_scaler, extra_trees])))\n",
        "pipelines.append(('Ada-norm', Pipeline([min_max_scaler, adaboost])))\n",
        "pipelines.append(('GB-norm', Pipeline([min_max_scaler, gradient_boosting])))\n",
        "pipelines.append(('Vot-norm', Pipeline([min_max_scaler, voting])))\n",
        "\n",
        "# Executando os pipelines\n",
        "for name, model in pipelines:\n",
        "    cv_results = cross_val_score(model, X_train, y_train, cv=skf, scoring='accuracy')\n",
        "    results.append(cv_results)\n",
        "    names.append(name)\n",
        "    msg = \"%s: %.3f (%.3f)\" % (name, cv_results.mean(), cv_results.std()) # formatando para 3 casas decimais\n",
        "    print(msg)\n",
        "\n",
        "    name = name + '_sf'\n",
        "\n",
        "    cv_results = cross_val_score(model, X_train[selected_features], y_train, cv=skf, scoring='accuracy')\n",
        "    results.append(cv_results)\n",
        "    names.append(name)\n",
        "    msg = \"%s: %.3f (%.3f)\" % (name, cv_results.mean(), cv_results.std()) # formatando para 3 casas decimais\n",
        "    print(msg)\n",
        "\n",
        "# Boxplot de comparação dos modelos\n",
        "fig = plt.figure(figsize=(25,6))\n",
        "fig.suptitle('Comparação dos Modelos - Dataset orginal, padronizado e normalizado')\n",
        "ax = fig.add_subplot(111)\n",
        "plt.boxplot(results)\n",
        "ax.set_xticklabels(names, rotation=90)\n",
        "plt.show()"
      ]
    },
    {
      "cell_type": "markdown",
      "metadata": {
        "id": "57UInPAgiOhc"
      },
      "source": [
        "Agora, são 66 valores apresentados em lista, informando a acurácia de cada modelo (média e desvio padrão). São os mesmos 33 apresentados anteriormente, mas, agora, cada um está acompanhado de seu \"par\" após feature seletion.\n",
        "\n",
        "No gráfico boxplot, os resultados de cada modelo está plotado com seus pares lado a lado, facilitando a visualização. Por exemplo, as duas primeiras séries do gráfico são do modelo de Regressão Logística sem a feature selection (LR-orig) e o modelo de Regressão Logística com a feature selection (LR-orig_sf). E, assim, segue.\n",
        "\n",
        "Analisando cada par individualmente, nota-se que o feature selection aumentou a acurácia dos modelos que não estavam bem \"ranqueados\". Alguns deles como Árvore de Decisão (CART), SVM, Bagging, Random Forest e Extra Trees, a acurácia aumentou de 3 a 5%. O pior modelo tem uma acurácia acima de 76%, quando antes da feature selection esse valor era um pouco maior que 73%.\n",
        "\n",
        "Dos 33 pares, apenas em 12 houve piora, ainda que muito pequena: Regressão Logística (LR), KNN, AdaBoost (Ada), Gradiente Boosting (GB) e as respectivas variantes (padronizadas e normalizadas). Justo nos modelos que apresentavam os melhores resultados.\n",
        "\n",
        "De forma geral, os resultados sugerem que o valor da acurácia tem uma assíntota em torno de 80%.\n",
        "\n",
        "Aumentar a acurácia não é a única vantagem do feature selection. Como outras vantagens, podemos citar (KALINOWSKI et al, 2023):\n",
        "\n",
        "- Redução do overfitting, pois dados menos redundantes diminuem o risco de decisões com base em ruído;\n",
        "\n",
        "- Redução do tempo de treinamento, pois trabalhar com menos dados acelera o treinamento;\n",
        "\n",
        "- Melhoria da interpretabilidade do modelo.\n",
        "\n",
        "As duas primeiras etapas vistas até aqui são técnicas de melhoria dos modelos preditores que atuam no conjunto de dados. Conforme foi visto, através delas, alguns modelos aumentaram sua acurácia em quase 5%.\n",
        "\n",
        "Pelos resultados obtidos, vamos considerá-las como cumulativas, isto é, nessa perseguição pelo melhor modelo, vamos padronizar o conjunto de dados e aplicar o feature selection.\n",
        "\n",
        "Contudo, dentro dos recursos avançados de Machine Learning, ainda podemos atuar na configuração dos modelos (\"por dentro\" deles), alterando os valores de alguns de seus hiperparâmetros. A **otimização de hiperparâmetros** é a terceira etapa de nosso processo de aperfeiçoamento."
      ]
    },
    {
      "cell_type": "markdown",
      "metadata": {
        "id": "5momteFlr2xR"
      },
      "source": [
        "## **8. Aprimoramento da Modelagem (Otimização de Hiperparâmetros)**\n"
      ]
    },
    {
      "cell_type": "markdown",
      "metadata": {
        "id": "YiZPVtXbIsQK"
      },
      "source": [
        "Nessa terceira etapa, vamos ajustar melhor alguns algoritmos, modificando a configuração padrão (default) partindo do dataset padronizado e após aplicação do feature selection.\n",
        "\n",
        "Vamos otimizar os hiperparâmetros do modelo KNN, que ainda está com acurácia abaixo de outros modelos (77,4%); do modelo CART, cuja sua acurácia reagiu bem à feature selection (saiu de 73,3% para 78,7%) e, portanto, teria potencial para melhorar mais um pouco; e dos modelos que desde o início estão como os melhores preditores (AdaBoost e Gradient Boosting, ambos com 80,1%).\n",
        "\n",
        "No nosso código, a biblioteca utilzada para fazer a otimização de hiperparâmetros desses quatro modelos foi GridSearchCV(), que nos permite informar em um grid quais hiperparâmetros queremos variar, bem como o conjunto de valores que queremos avaliar para cada um deles.\n",
        "\n",
        "De acordo com Kalinowski et al (2023), para cada combinação de hiperparâmetros especificada no grid, a biblioteca vai sistematicamente construir e avaliar um modelo utilizando validação cruzada, o que nos permitirá escolher ao final desse processo a melhor combinação de hiperparâmetros para o algoritmo em questão.\n",
        "\n",
        "Valores dos Hiperparâmetros de cada algoritmo que foram avaliados:\n",
        "\n",
        "- KNN:\n",
        "  n_neighbors (vizinhos): 1,3,5,7,9,11,13,15,17,19,21;\n",
        "  metric (distância): euclidean, manhattan, minkowski.\n",
        "\n",
        "- CART:\n",
        "  max_depth: 2,3,5,7,9,13,15,17,19;\n",
        "  min_samples_split: 8,16,32,64,128,256,512;\n",
        "  min_samples_leaf: 8,16,32,64,128,256,512.\n",
        "\n",
        "- AdaBoost:\n",
        "  n_estimators: 30,50,100,200;\n",
        "  learning_rate: 1.0,0.10\n",
        "  \n",
        "- Gradient Boosting:\n",
        "  n_estimators: 30,50,100,200;\n",
        "  learning_rate: 1.0,0.10\n",
        "\n",
        "Importante lembrar que essas rodadas estão sendo feitas após o feature selection.\n"
      ]
    },
    {
      "cell_type": "code",
      "execution_count": null,
      "metadata": {
        "colab": {
          "base_uri": "https://localhost:8080/"
        },
        "id": "SkRVJs1tr_i3",
        "outputId": "ad22fb91-c768-4df5-fa19-482e6086a385"
      },
      "outputs": [
        {
          "name": "stdout",
          "output_type": "stream",
          "text": [
            "Sem tratamento de missings: knn-orig - Melhor: 0.794680 usando {'KNN__metric': 'manhattan', 'KNN__n_neighbors': 21}\n",
            "Sem tratamento de missings: knn-padr - Melhor: 0.795041 usando {'KNN__metric': 'euclidean', 'KNN__n_neighbors': 21}\n",
            "Sem tratamento de missings: knn-norm - Melhor: 0.794681 usando {'KNN__metric': 'euclidean', 'KNN__n_neighbors': 21}\n"
          ]
        }
      ],
      "source": [
        "# Tuning do KNN (k-Nearest Neighbors)\n",
        "\n",
        "np.random.seed(7) # definindo uma semente global para este bloco\n",
        "\n",
        "pipelines = []\n",
        "\n",
        "# Definindo os componentes do pipeline\n",
        "knn = ('KNN', KNeighborsClassifier())\n",
        "standard_scaler = ('StandardScaler', StandardScaler())\n",
        "min_max_scaler = ('MinMaxScaler', MinMaxScaler())\n",
        "\n",
        "pipelines.append(('knn-orig', Pipeline(steps=[knn])))\n",
        "pipelines.append(('knn-padr', Pipeline(steps=[standard_scaler, knn])))\n",
        "pipelines.append(('knn-norm', Pipeline(steps=[min_max_scaler, knn])))\n",
        "\n",
        "param_grid = {\n",
        "    'KNN__n_neighbors': [1,3,5,7,9,11,13,15,17,19,21],\n",
        "    'KNN__metric': [\"euclidean\", \"manhattan\", \"minkowski\"],\n",
        "}\n",
        "\n",
        "# Prepara e executa o GridSearchCV\n",
        "for name, model in pipelines:\n",
        "    grid = GridSearchCV(estimator=model, param_grid=param_grid, scoring='accuracy', cv=skf)\n",
        "    grid.fit(X_train[selected_features], y_train)\n",
        "    # imprime a melhor configuração\n",
        "    print(\"Sem tratamento de missings: %s - Melhor: %f usando %s\" % (name, grid.best_score_, grid.best_params_))"
      ]
    },
    {
      "cell_type": "markdown",
      "metadata": {
        "id": "sXKyQaNGAzBZ"
      },
      "source": [
        "Para o KNN com padronização do dataset e feature selection, a combinação que trouxe a maior acurácia (79,5%) foi a de distância euclidiana com 21 vizinhos. É uma acurácia maior que aquela KNN-padr_sf com configuração padrão igual a 77,5%."
      ]
    },
    {
      "cell_type": "code",
      "execution_count": null,
      "metadata": {
        "colab": {
          "background_save": true,
          "base_uri": "https://localhost:8080/"
        },
        "id": "V4bz5ihFk2MA",
        "outputId": "900c97bf-f371-43d7-e000-e44198c0eed7"
      },
      "outputs": [
        {
          "name": "stdout",
          "output_type": "stream",
          "text": [
            "Sem tratamento de missings: cart-orig - Melhor: 0.802820 usando {'CART__max_depth': 9, 'CART__min_samples_leaf': 32, 'CART__min_samples_split': 128}\n",
            "Sem tratamento de missings: cart-padr - Melhor: 0.802820 usando {'CART__max_depth': 9, 'CART__min_samples_leaf': 32, 'CART__min_samples_split': 128}\n",
            "Sem tratamento de missings: cart-norm - Melhor: 0.802820 usando {'CART__max_depth': 9, 'CART__min_samples_leaf': 32, 'CART__min_samples_split': 128}\n"
          ]
        }
      ],
      "source": [
        "# Tuning do CART (Árvore de Decisão)\n",
        "\n",
        "np.random.seed(7) # definindo uma semente global para este bloco\n",
        "\n",
        "pipelines = []\n",
        "\n",
        "# Definindo os componentes do pipeline\n",
        "cart = ('CART', DecisionTreeClassifier())\n",
        "standard_scaler = ('StandardScaler', StandardScaler())\n",
        "min_max_scaler = ('MinMaxScaler', MinMaxScaler())\n",
        "\n",
        "pipelines.append(('cart-orig', Pipeline(steps=[cart])))\n",
        "pipelines.append(('cart-padr', Pipeline(steps=[standard_scaler, cart])))\n",
        "pipelines.append(('cart-norm', Pipeline(steps=[min_max_scaler, cart])))\n",
        "\n",
        "param_grid = {\n",
        "    'CART__max_depth': [2,3,5,7,9,13,15,17,19],\n",
        "    'CART__min_samples_split': [8,16,32,64,128,256,512],\n",
        "    'CART__min_samples_leaf': [8,16,32,64,128,256,512],\n",
        "}\n",
        "# Prepara e executa o GridSearchCV\n",
        "for name, model in pipelines:\n",
        "    grid = GridSearchCV(estimator=model, param_grid=param_grid, scoring='accuracy', cv=skf)\n",
        "    grid.fit(X_train[selected_features], y_train)\n",
        "    # imprime a melhor configuração\n",
        "    print(\"Sem tratamento de missings: %s - Melhor: %f usando %s\" % (name, grid.best_score_, grid.best_params_))"
      ]
    },
    {
      "cell_type": "markdown",
      "metadata": {
        "id": "SciCcKNxCIs5"
      },
      "source": [
        "Para o CART com padronização do dataset e feature selection, a combinação que trouxe a maior acurácia (80,3%) foi a de max_depth igual a 9, min_sample_leaf igual a 32 e min_samples_split igual a 128. É uma acurácia maior que aquela do CART-padr_sf (com configuração default) igual a 79,3%."
      ]
    },
    {
      "cell_type": "code",
      "execution_count": null,
      "metadata": {
        "colab": {
          "background_save": true
        },
        "id": "7Y3a0aick7xQ",
        "outputId": "9c2eb87a-2f65-4a01-951b-c1d20bc582e6"
      },
      "outputs": [
        {
          "name": "stdout",
          "output_type": "stream",
          "text": [
            "Sem tratamento de missings: Ada-orig - Melhor: 0.804508 usando {'Ada__learning_rate': 1.0, 'Ada__n_estimators': 200}\n",
            "Sem tratamento de missings: Ada-padr - Melhor: 0.804508 usando {'Ada__learning_rate': 1.0, 'Ada__n_estimators': 200}\n",
            "Sem tratamento de missings: Ada-norm - Melhor: 0.804508 usando {'Ada__learning_rate': 1.0, 'Ada__n_estimators': 200}\n"
          ]
        }
      ],
      "source": [
        "# Tuning do AdaBoost\n",
        "\n",
        "np.random.seed(7) # definindo uma semente global para este bloco\n",
        "\n",
        "pipelines = []\n",
        "\n",
        "# Definindo os componentes do pipeline\n",
        "ada = ('Ada', AdaBoostClassifier())\n",
        "standard_scaler = ('StandardScaler', StandardScaler())\n",
        "min_max_scaler = ('MinMaxScaler', MinMaxScaler())\n",
        "\n",
        "pipelines.append(('Ada-orig', Pipeline(steps=[ada])))\n",
        "pipelines.append(('Ada-padr', Pipeline(steps=[standard_scaler, ada])))\n",
        "pipelines.append(('Ada-norm', Pipeline(steps=[min_max_scaler, ada])))\n",
        "\n",
        "param_grid = {\n",
        "    'Ada__n_estimators': [30,50,100,200],\n",
        "    'Ada__learning_rate': [1.0,0.10]\n",
        "}\n",
        "# Prepara e executa o GridSearchCV\n",
        "for name, model in pipelines:\n",
        "    grid = GridSearchCV(estimator=model, param_grid=param_grid, scoring='accuracy', cv=skf)\n",
        "    grid.fit(X_train[selected_features], y_train)\n",
        "    # imprime a melhor configuração\n",
        "    print(\"Sem tratamento de missings: %s - Melhor: %f usando %s\" % (name, grid.best_score_, grid.best_params_))"
      ]
    },
    {
      "cell_type": "markdown",
      "metadata": {
        "id": "iQ8a6gSDDddR"
      },
      "source": [
        "Para o AdaBoost com padronização do dataset e feature selection, a combinação que trouxe a maior acurácia (80,4%) foi a de learning rate igual a 1.0 e n_estimators igual a 200. É uma acurácia igual àquela obtida no Ada-padr_sf com configuração padrão igual a 80,4%."
      ]
    },
    {
      "cell_type": "code",
      "execution_count": null,
      "metadata": {
        "colab": {
          "background_save": true
        },
        "id": "oIlN8_3079vP",
        "outputId": "c01da711-6f09-4d4e-c3d7-ec60e645190c"
      },
      "outputs": [
        {
          "name": "stdout",
          "output_type": "stream",
          "text": [
            "Sem tratamento de missings: GB-orig - Melhor: 0.805353 usando {'GB__learning_rate': 0.1, 'GB__n_estimators': 100}\n",
            "Sem tratamento de missings: GB-padr - Melhor: 0.805353 usando {'GB__learning_rate': 0.1, 'GB__n_estimators': 100}\n",
            "Sem tratamento de missings: GB-norm - Melhor: 0.805353 usando {'GB__learning_rate': 0.1, 'GB__n_estimators': 100}\n"
          ]
        }
      ],
      "source": [
        "# Tuning do Gradient Boosting\n",
        "\n",
        "np.random.seed(7) # definindo uma semente global para este bloco\n",
        "\n",
        "pipelines = []\n",
        "\n",
        "# Definindo os componentes do pipeline\n",
        "gb = ('GB', GradientBoostingClassifier())\n",
        "standard_scaler = ('StandardScaler', StandardScaler())\n",
        "min_max_scaler = ('MinMaxScaler', MinMaxScaler())\n",
        "\n",
        "pipelines.append(('GB-orig', Pipeline(steps=[gb])))\n",
        "pipelines.append(('GB-padr', Pipeline(steps=[standard_scaler, gb])))\n",
        "pipelines.append(('GB-norm', Pipeline(steps=[min_max_scaler, gb])))\n",
        "\n",
        "param_grid = {\n",
        "    'GB__n_estimators': [30,50,100,200],\n",
        "    'GB__learning_rate': [1.0,0.10]\n",
        "  }\n",
        "# Prepara e executa o GridSearchCV\n",
        "for name, model in pipelines:\n",
        "    grid = GridSearchCV(estimator=model, param_grid=param_grid, scoring='accuracy', cv=skf)\n",
        "    grid.fit(X_train[selected_features], y_train)\n",
        "    # imprime a melhor configuração\n",
        "    print(\"Sem tratamento de missings: %s - Melhor: %f usando %s\" % (name, grid.best_score_, grid.best_params_))"
      ]
    },
    {
      "cell_type": "markdown",
      "metadata": {
        "id": "MS-Pv7-xEHRe"
      },
      "source": [
        "Para o Gradient Boosting com padronização do dataset e feature selection, a combinação que trouxe a maior acurácia (80,5%) foi a de learning rate igual a 0.10 e n_estimators igual a 100. É uma acurácia igual àquela obtida no Gradient Boosting_sf com configuração padrão.\n",
        "\n",
        "Portanto, terminada a fase de treino, após consecutivas depurações no banco de dados e na configuração dos hiperparâmetos, o algoritmo que apresentou a melhor acurácia foi o **Gradient Boosting** com seu hiperparâmeto n_estimators igual a 200. Esse modelo foi aplicado após seleção dos atributos e a devida padronização desse dataset.\n",
        "\n",
        "A acurácia foi de **80,5%**.\n",
        "\n",
        "Agora, precisamos verificar se esse desempenho se mantém no conjunto teste."
      ]
    },
    {
      "cell_type": "markdown",
      "metadata": {
        "id": "J9L17oqDk0_1"
      },
      "source": [
        "## **9. Finalização do Modelo**\n",
        "\n",
        "Para a finalização do modelo escolhido, vamos treiná-lo em todo o conjunto de dados de treinamento (padronizados e tendo sido aplicada a feature selection) e faremos a predição para o conjunto de dados de teste que foi separado no início do trabalho, com o objetivo de confirmar os resultados.\n",
        "\n"
      ]
    },
    {
      "cell_type": "code",
      "execution_count": null,
      "metadata": {
        "colab": {
          "background_save": true
        },
        "id": "wnd9Q_WWklxK",
        "outputId": "ca580e88-fde0-4270-ae23-48628b4ed5b0"
      },
      "outputs": [
        {
          "name": "stdout",
          "output_type": "stream",
          "text": [
            "0.7894356005788712\n"
          ]
        }
      ],
      "source": [
        "# Avaliação do modelo com o conjunto de testes\n",
        "\n",
        "# Preparação do modelo\n",
        "\n",
        "scaler = StandardScaler().fit(X_train[selected_features]) # ajuste do scaler com o conjunto de treino\n",
        "rescaledX = scaler.transform(X_train[selected_features]) # aplicação da padronização no conjunto de treino já com feature selection\n",
        "#model = GradientBoostingClassifier(n_estimators=num_trees)\n",
        "model = GradientBoostingClassifier(n_estimators=200)\n",
        "model.fit(rescaledX, y_train)\n",
        "\n",
        "# Estimativa da acurácia no conjunto de teste\n",
        "\n",
        "rescaledTestX = scaler.transform(X_test[selected_features]) # aplicação da padronização no conjunto de teste\n",
        "predictions = model.predict(rescaledTestX)\n",
        "print(accuracy_score(y_test, predictions))"
      ]
    },
    {
      "cell_type": "markdown",
      "metadata": {
        "id": "k5G2xTCROQwF"
      },
      "source": [
        "A acurácia média do conjunto de teste foi **78,9%** um pouco menor (mas bem próxima) à acurácia média do conjunto de treino, que foi de **80,5%**.\n",
        "\n",
        "Valores semelhantes indicam um modelo bem ajustado, sem a ocorrência nem de underfitting nem de overfitting. Segundo Kalinowski et al (2023), valores semelhantes à acurácia de teste são esperados quando esse modelo estiver executando em produção e fazendo predições para novos dados.\n",
        "\n",
        "Agora, vamos preparar o modelo para utilização em produção. Para isso, vamos treiná-lo com todo o dataset, e não apenas o conjunto de treino.\n",
        "\n"
      ]
    },
    {
      "cell_type": "code",
      "execution_count": null,
      "metadata": {
        "colab": {
          "background_save": true
        },
        "id": "qXxI-QHfktdT",
        "outputId": "217df81f-175e-41e7-d2a0-783d65f52c6a"
      },
      "outputs": [
        {
          "data": {
            "text/html": [
              "<style>#sk-container-id-1 {color: black;background-color: white;}#sk-container-id-1 pre{padding: 0;}#sk-container-id-1 div.sk-toggleable {background-color: white;}#sk-container-id-1 label.sk-toggleable__label {cursor: pointer;display: block;width: 100%;margin-bottom: 0;padding: 0.3em;box-sizing: border-box;text-align: center;}#sk-container-id-1 label.sk-toggleable__label-arrow:before {content: \"▸\";float: left;margin-right: 0.25em;color: #696969;}#sk-container-id-1 label.sk-toggleable__label-arrow:hover:before {color: black;}#sk-container-id-1 div.sk-estimator:hover label.sk-toggleable__label-arrow:before {color: black;}#sk-container-id-1 div.sk-toggleable__content {max-height: 0;max-width: 0;overflow: hidden;text-align: left;background-color: #f0f8ff;}#sk-container-id-1 div.sk-toggleable__content pre {margin: 0.2em;color: black;border-radius: 0.25em;background-color: #f0f8ff;}#sk-container-id-1 input.sk-toggleable__control:checked~div.sk-toggleable__content {max-height: 200px;max-width: 100%;overflow: auto;}#sk-container-id-1 input.sk-toggleable__control:checked~label.sk-toggleable__label-arrow:before {content: \"▾\";}#sk-container-id-1 div.sk-estimator input.sk-toggleable__control:checked~label.sk-toggleable__label {background-color: #d4ebff;}#sk-container-id-1 div.sk-label input.sk-toggleable__control:checked~label.sk-toggleable__label {background-color: #d4ebff;}#sk-container-id-1 input.sk-hidden--visually {border: 0;clip: rect(1px 1px 1px 1px);clip: rect(1px, 1px, 1px, 1px);height: 1px;margin: -1px;overflow: hidden;padding: 0;position: absolute;width: 1px;}#sk-container-id-1 div.sk-estimator {font-family: monospace;background-color: #f0f8ff;border: 1px dotted black;border-radius: 0.25em;box-sizing: border-box;margin-bottom: 0.5em;}#sk-container-id-1 div.sk-estimator:hover {background-color: #d4ebff;}#sk-container-id-1 div.sk-parallel-item::after {content: \"\";width: 100%;border-bottom: 1px solid gray;flex-grow: 1;}#sk-container-id-1 div.sk-label:hover label.sk-toggleable__label {background-color: #d4ebff;}#sk-container-id-1 div.sk-serial::before {content: \"\";position: absolute;border-left: 1px solid gray;box-sizing: border-box;top: 0;bottom: 0;left: 50%;z-index: 0;}#sk-container-id-1 div.sk-serial {display: flex;flex-direction: column;align-items: center;background-color: white;padding-right: 0.2em;padding-left: 0.2em;position: relative;}#sk-container-id-1 div.sk-item {position: relative;z-index: 1;}#sk-container-id-1 div.sk-parallel {display: flex;align-items: stretch;justify-content: center;background-color: white;position: relative;}#sk-container-id-1 div.sk-item::before, #sk-container-id-1 div.sk-parallel-item::before {content: \"\";position: absolute;border-left: 1px solid gray;box-sizing: border-box;top: 0;bottom: 0;left: 50%;z-index: -1;}#sk-container-id-1 div.sk-parallel-item {display: flex;flex-direction: column;z-index: 1;position: relative;background-color: white;}#sk-container-id-1 div.sk-parallel-item:first-child::after {align-self: flex-end;width: 50%;}#sk-container-id-1 div.sk-parallel-item:last-child::after {align-self: flex-start;width: 50%;}#sk-container-id-1 div.sk-parallel-item:only-child::after {width: 0;}#sk-container-id-1 div.sk-dashed-wrapped {border: 1px dashed gray;margin: 0 0.4em 0.5em 0.4em;box-sizing: border-box;padding-bottom: 0.4em;background-color: white;}#sk-container-id-1 div.sk-label label {font-family: monospace;font-weight: bold;display: inline-block;line-height: 1.2em;}#sk-container-id-1 div.sk-label-container {text-align: center;}#sk-container-id-1 div.sk-container {/* jupyter's `normalize.less` sets `[hidden] { display: none; }` but bootstrap.min.css set `[hidden] { display: none !important; }` so we also need the `!important` here to be able to override the default hidden behavior on the sphinx rendered scikit-learn.org. See: https://github.com/scikit-learn/scikit-learn/issues/21755 */display: inline-block !important;position: relative;}#sk-container-id-1 div.sk-text-repr-fallback {display: none;}</style><div id=\"sk-container-id-1\" class=\"sk-top-container\"><div class=\"sk-text-repr-fallback\"><pre>GradientBoostingClassifier(n_estimators=200)</pre><b>In a Jupyter environment, please rerun this cell to show the HTML representation or trust the notebook. <br />On GitHub, the HTML representation is unable to render, please try loading this page with nbviewer.org.</b></div><div class=\"sk-container\" hidden><div class=\"sk-item\"><div class=\"sk-estimator sk-toggleable\"><input class=\"sk-toggleable__control sk-hidden--visually\" id=\"sk-estimator-id-1\" type=\"checkbox\" checked><label for=\"sk-estimator-id-1\" class=\"sk-toggleable__label sk-toggleable__label-arrow\">GradientBoostingClassifier</label><div class=\"sk-toggleable__content\"><pre>GradientBoostingClassifier(n_estimators=200)</pre></div></div></div></div></div>"
            ],
            "text/plain": [
              "GradientBoostingClassifier(n_estimators=200)"
            ]
          },
          "execution_count": 19,
          "metadata": {},
          "output_type": "execute_result"
        }
      ],
      "source": [
        "# Preparação do modelo com TODO o dataset\n",
        "\n",
        "scaler = StandardScaler().fit(X[selected_features]) # ajuste do scaler com TODO o dataset\n",
        "rescaledX = scaler.transform(X[selected_features]) # aplicação da padronização com TODO o dataset\n",
        "model.fit(rescaledX, y)"
      ]
    },
    {
      "cell_type": "markdown",
      "metadata": {
        "id": "GTxuYI0k3K0L"
      },
      "source": [
        "## **10. Simulação do modelo com dados não vistos**\n",
        "\n",
        "Escolhido o modelo e calculada a sua acurácia, precisamos simular a sua aplicação em dados não vistos. É neste momento que utilizaremos o conjunto de validação (X_val e y_val). Cabe lembrar que esse coojunto foi destacado do dataset no início deste trabalho, antes da separação treino-teste, justamete para que ele não seja conhecido da modelagem.\n",
        "\n",
        "Outrossim, poderíamos ter construído esse conjunto de forma fictícia. Esse expediente seria válido para obtenção de algum resultado. Contudo, não seria possível comparar esse resultado da predição com o valor observado.\n",
        "\n",
        "O conjunto de validação tem seus atributos (X) e sua classe target (y) conhecida. Os atributos serão submetidos ao modelo escolhido (Gradient Boosting) para a predição da classe target: está fora da faixa de pobreza (0) ou dentro (1)."
      ]
    },
    {
      "cell_type": "code",
      "execution_count": null,
      "metadata": {
        "colab": {
          "background_save": true
        },
        "id": "l-rEqVBg3mR7",
        "outputId": "54d564f3-567c-47e1-d264-ed9560419f08"
      },
      "outputs": [
        {
          "name": "stdout",
          "output_type": "stream",
          "text": [
            "[[ 1.304  0.837  1.304 -1.096  0.521  0.983]\n",
            " [ 0.247  1.782 -0.767  0.913  0.521 -1.692]\n",
            " [-1.339 -1.053  1.304  0.913  0.521  0.983]\n",
            " [-1.339 -1.053 -0.767  0.913  0.521 -0.354]\n",
            " [ 1.304  0.207  1.304  0.913  0.521  0.983]\n",
            " [ 0.247  1.152 -0.767 -1.096  0.521 -1.692]\n",
            " [ 0.247  0.207  1.304  0.913  0.521  0.983]\n",
            " [ 0.247 -0.108 -0.767 -1.096  0.521 -0.354]\n",
            " [-1.339 -1.368 -0.767  0.913 -1.92  -0.354]\n",
            " [ 0.247 -1.053 -0.767 -1.096  0.521 -0.354]\n",
            " [ 1.304 -1.053  1.304 -1.096  0.521 -0.354]\n",
            " [-0.81  -0.423 -0.767 -1.096  0.521 -0.354]\n",
            " [ 0.247 -1.053  1.304 -1.096  0.521 -0.354]\n",
            " [ 1.304  1.152 -0.767  0.913 -1.92  -1.692]\n",
            " [ 0.247  1.467  1.304 -1.096  0.521  0.983]\n",
            " [-0.282 -1.053 -0.767  0.913 -1.92  -1.692]\n",
            " [ 1.304 -0.423 -0.767 -1.096  0.521  0.983]\n",
            " [-1.339 -1.368 -0.767 -1.096 -1.92   0.983]\n",
            " [-1.339 -1.053 -0.767  0.913 -1.92  -0.354]\n",
            " [ 0.247 -0.423 -0.767  0.913  0.521 -1.692]\n",
            " [ 0.247 -1.053  1.304  0.913  0.521 -0.354]]\n"
          ]
        }
      ],
      "source": [
        "# Novos dados - não sabemos a classe!\n",
        "\n",
        "# Padronização nos dados de entrada usando o scaler utilizado em X\n",
        "rescaledEntradaX = scaler.transform(X_val[selected_features])\n",
        "print(rescaledEntradaX)"
      ]
    },
    {
      "cell_type": "code",
      "execution_count": null,
      "metadata": {
        "colab": {
          "background_save": true
        },
        "id": "nANquFWH3yF5",
        "outputId": "084df8e4-66e2-4b93-8291-09f9e0276241"
      },
      "outputs": [
        {
          "name": "stdout",
          "output_type": "stream",
          "text": [
            "[0 1 0 0 0 0 0 0 0 0 0 0 0 0 0 1 0 0 0 0 0]\n"
          ]
        }
      ],
      "source": [
        "# Predição de classes dos dados de entrada\n",
        "saidas = model.predict(rescaledEntradaX)\n",
        "print(saidas)"
      ]
    },
    {
      "cell_type": "code",
      "execution_count": 25,
      "metadata": {
        "colab": {
          "base_uri": "https://localhost:8080/"
        },
        "id": "1PbY9MADLBhe",
        "outputId": "9726687d-6bac-4e9d-e49f-c8062c22e876"
      },
      "outputs": [
        {
          "output_type": "execute_result",
          "data": {
            "text/plain": [
              "11119    0\n",
              "3262     1\n",
              "1111     1\n",
              "13933    0\n",
              "1113     1\n",
              "12716    1\n",
              "10190    0\n",
              "20176    0\n",
              "18490    0\n",
              "16461    0\n",
              "14394    0\n",
              "13453    0\n",
              "11436    0\n",
              "735      1\n",
              "10508    1\n",
              "4308     1\n",
              "8113     0\n",
              "15596    0\n",
              "9817     0\n",
              "4552     0\n",
              "6177     0\n",
              "Name: poverty, dtype: int64"
            ]
          },
          "metadata": {},
          "execution_count": 25
        }
      ],
      "source": [
        "# Comparação entre o valor predito e o valor observado\n",
        "\n",
        "y_val"
      ]
    },
    {
      "cell_type": "markdown",
      "metadata": {
        "id": "uh7IZGOcLoxu"
      },
      "source": [
        "Comparando predição x observação, houve 5 discordâncias em 21, um percentual de 76,2%. É um valor bem próximo à acurácia calculada de 78,9%."
      ]
    },
    {
      "cell_type": "markdown",
      "source": [
        "## **11. Conclusão**\n",
        "\n",
        "Ao longo desse trabalho, procurou-se apresentar as técnicas de Machine Learning aplicadas a um problema de classificação. Foram realizadas as etapas de preparação e pré-processamento do banco de dados, separação treino-teste, seleção de atributos, modelagem, avaliação do modelo e simulação com dados desconhecidos.\n",
        "\n",
        "Na modelagem, foram explorados os algoritmos simples e os ensembles, que são meta-algoritmos que combinam modelos, além de alguns deles terem sido testados via otimização de seus hiperparâmetros.\n",
        "\n",
        "O modelo preditor escolhido apresentou acurácia igual a 78,9%, ou seja, a cada 10 predições, ele converge para 8 acertos.\n",
        "\n",
        "Contudo, mesmo após utilizar um bom repertório das técnicas de Machine Learning disponíveis, aparentemente, a acurácia tende a atingir uma assíntota em torno de 80%. Como ponto de melhoria para esse trabalho, uma boa frente seria atuar no banco de dados, no sentido de aumentar o número de atributos relevantes. Talvez haja outros atributos que ajudem a explicar a pobreza (ou o perfil de renda dos indivíduos). Ex.: quantidade de pessoas que residem no mesmo domicílio ou, ainda, tempo em que o indivíduo está sem emprego formal."
      ],
      "metadata": {
        "id": "Uc2AbXalSe9g"
      }
    },
    {
      "cell_type": "markdown",
      "metadata": {
        "id": "Ulxr4wlJ37OQ"
      },
      "source": [
        "## **12. Referência Bibliográfica**\n",
        "\n",
        "KALINOWSKI, Marcos; ESCOVEDO, Tatiana; VILLAMIZAR, Hugo; LOPES, Hélio. Engenharia de Software para Ciêcia de Dados: um guia de boas práticas com ênfase na construção de sistemas de Machine Learning em Python. São Paulo: Aovs Sistemas de Informática, 2023."
      ]
    }
  ],
  "metadata": {
    "colab": {
      "provenance": [],
      "toc_visible": true,
      "authorship_tag": "ABX9TyN1t6XTvVPkmE3mV/vBnARC",
      "include_colab_link": true
    },
    "kernelspec": {
      "display_name": "Python 3",
      "name": "python3"
    },
    "language_info": {
      "name": "python"
    }
  },
  "nbformat": 4,
  "nbformat_minor": 0
}